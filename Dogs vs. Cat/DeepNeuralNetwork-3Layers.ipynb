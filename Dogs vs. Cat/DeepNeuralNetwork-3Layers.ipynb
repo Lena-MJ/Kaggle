{
  "nbformat": 4,
  "nbformat_minor": 0,
  "metadata": {
    "colab": {
      "name": "Cat vs Dog- Full Dataset-Augmentation-Exercise_6_Question-Solution.ipynb",
      "provenance": [],
      "collapsed_sections": []
    },
    "kernelspec": {
      "name": "python3",
      "display_name": "Python 3"
    },
    "accelerator": "GPU"
  },
  "cells": [
    {
      "cell_type": "code",
      "metadata": {
        "id": "dn-6c02VmqiN",
        "colab_type": "code",
        "colab": {}
      },
      "source": [
        "# In this exercise you will train a CNN on the FULL Cats-v-dogs dataset\n",
        "# This will require you doing a lot of data preprocessing because\n",
        "# the dataset isn't split into training and validation for you\n",
        "# This code block has all the required inputs\n",
        "import os\n",
        "import zipfile\n",
        "import random\n",
        "import tensorflow as tf\n",
        "from tensorflow.keras.optimizers import RMSprop\n",
        "from tensorflow.keras.preprocessing.image import ImageDataGenerator\n",
        "from shutil import copyfile"
      ],
      "execution_count": 0,
      "outputs": []
    },
    {
      "cell_type": "code",
      "metadata": {
        "id": "3sd9dQWa23aj",
        "colab_type": "code",
        "outputId": "11e255a7-20c5-4671-ce38-7967960744c5",
        "colab": {
          "base_uri": "https://localhost:8080/",
          "height": 204
        }
      },
      "source": [
        "# This code block downloads the full Cats-v-Dogs dataset and stores it as \n",
        "# cats-and-dogs.zip. It then unzips it to /tmp\n",
        "# which will create a tmp/PetImages directory containing subdirectories\n",
        "# called 'Cat' and 'Dog' (that's how the original researchers structured it)\n",
        "# If the URL doesn't work, \n",
        "# .   visit https://www.microsoft.com/en-us/download/confirmation.aspx?id=54765\n",
        "# And right click on the 'Download Manually' link to get a new URL\n",
        "\n",
        "!wget --no-check-certificate \\\n",
        "    \"https://download.microsoft.com/download/3/E/1/3E1C3F21-ECDB-4869-8368-6DEBA77B919F/kagglecatsanddogs_3367a.zip\" \\\n",
        "    -O \"/tmp/cats-and-dogs.zip\"\n",
        "\n",
        "local_zip = '/tmp/cats-and-dogs.zip'\n",
        "zip_ref = zipfile.ZipFile(local_zip, 'r')\n",
        "zip_ref.extractall('/tmp')\n",
        "zip_ref.close()\n"
      ],
      "execution_count": 2,
      "outputs": [
        {
          "output_type": "stream",
          "text": [
            "--2019-10-15 15:36:51--  https://download.microsoft.com/download/3/E/1/3E1C3F21-ECDB-4869-8368-6DEBA77B919F/kagglecatsanddogs_3367a.zip\n",
            "Resolving download.microsoft.com (download.microsoft.com)... 23.36.68.33, 2600:1402:6800:297::e59, 2600:1402:6800:2a7::e59, ...\n",
            "Connecting to download.microsoft.com (download.microsoft.com)|23.36.68.33|:443... connected.\n",
            "HTTP request sent, awaiting response... 200 OK\n",
            "Length: 824894548 (787M) [application/octet-stream]\n",
            "Saving to: ‘/tmp/cats-and-dogs.zip’\n",
            "\n",
            "/tmp/cats-and-dogs. 100%[===================>] 786.68M   193MB/s    in 4.2s    \n",
            "\n",
            "2019-10-15 15:36:56 (189 MB/s) - ‘/tmp/cats-and-dogs.zip’ saved [824894548/824894548]\n",
            "\n"
          ],
          "name": "stdout"
        }
      ]
    },
    {
      "cell_type": "code",
      "metadata": {
        "id": "gi3yD62a6X3S",
        "colab_type": "code",
        "outputId": "d948d102-1a8f-431b-8391-6f77ebb6e30b",
        "colab": {
          "base_uri": "https://localhost:8080/",
          "height": 51
        }
      },
      "source": [
        "print(len(os.listdir('/tmp/PetImages/Cat/')))\n",
        "print(len(os.listdir('/tmp/PetImages/Dog/')))\n",
        "\n",
        "# Expected Output:\n",
        "# 12501\n",
        "# 12501"
      ],
      "execution_count": 3,
      "outputs": [
        {
          "output_type": "stream",
          "text": [
            "12501\n",
            "12501\n"
          ],
          "name": "stdout"
        }
      ]
    },
    {
      "cell_type": "code",
      "metadata": {
        "id": "F-QkLjxpmyK2",
        "colab_type": "code",
        "colab": {}
      },
      "source": [
        "# Use os.mkdir to create your directories\n",
        "# You will need a directory for cats-v-dogs, and subdirectories for training\n",
        "# and testing. These in turn will need subdirectories for 'cats' and 'dogs'\n",
        "try:\n",
        "    os.mkdir('/tmp/cats-v-dogs')\n",
        "    os.mkdir('/tmp/cats-v-dogs/training')\n",
        "    os.mkdir('/tmp/cats-v-dogs/testing')\n",
        "    os.mkdir('/tmp/cats-v-dogs/training/cats')\n",
        "    os.mkdir('/tmp/cats-v-dogs/training/dogs')\n",
        "    os.mkdir('/tmp/cats-v-dogs/testing/cats')\n",
        "    os.mkdir('/tmp/cats-v-dogs/testing/dogs')\n",
        "except OSError:\n",
        "    pass"
      ],
      "execution_count": 0,
      "outputs": []
    },
    {
      "cell_type": "code",
      "metadata": {
        "id": "zvSODo0f9LaU",
        "colab_type": "code",
        "outputId": "08e7623e-2346-4f3a-f12c-967f7ef5573f",
        "colab": {
          "base_uri": "https://localhost:8080/",
          "height": 51
        }
      },
      "source": [
        "# Write a python function called split_data which takes\n",
        "# a SOURCE directory containing the files\n",
        "# a TRAINING directory that a portion of the files will be copied to\n",
        "# a TESTING directory that a portion of the files will be copie to\n",
        "# a SPLIT SIZE to determine the portion\n",
        "# The files should also be randomized, so that the training set is a random\n",
        "# X% of the files, and the test set is the remaining files\n",
        "# SO, for example, if SOURCE is PetImages/Cat, and SPLIT SIZE is .9\n",
        "# Then 90% of the images in PetImages/Cat will be copied to the TRAINING dir\n",
        "# and 10% of the images will be copied to the TESTING dir\n",
        "# Also -- All images should be checked, and if they have a zero file length,\n",
        "# they will not be copied over\n",
        "#\n",
        "# os.listdir(DIRECTORY) gives you a listing of the contents of that directory\n",
        "# os.path.getsize(PATH) gives you the size of the file\n",
        "# copyfile(source, destination) copies a file from source to destination\n",
        "# random.sample(list, len(list)) shuffles a list\n",
        "def split_data(SOURCE, TRAINING, TESTING, SPLIT_SIZE):\n",
        "\n",
        "  file_names=[]\n",
        "  file_names_non_empty=[]\n",
        "  file_names = os.listdir(SOURCE)\n",
        "  for files in file_names:\n",
        "    if not os.path.getsize(SOURCE+files) == 0:\n",
        "      file_names_non_empty.append(files)\n",
        "    else:\n",
        "      print(\"Zero Size file:\",files)\n",
        "  random_file_names = random.sample(file_names_non_empty,len(file_names_non_empty))\n",
        "  split1=random_file_names[:int(0.9*len(random_file_names))]\n",
        "  split2=random_file_names[int(0.9*len(random_file_names)):]                              \n",
        "  for files in split1:\n",
        "      copyfile(SOURCE+files,TRAINING+files)\n",
        "  for files in split2:\n",
        "      copyfile(SOURCE+files,TESTING+files)\n",
        "# YOUR CODE STARTS HERE\n",
        "# YOUR CODE ENDS HERE\n",
        "\n",
        "\n",
        "CAT_SOURCE_DIR = \"/tmp/PetImages/Cat/\"\n",
        "TRAINING_CATS_DIR = \"/tmp/cats-v-dogs/training/cats/\"\n",
        "TESTING_CATS_DIR = \"/tmp/cats-v-dogs/testing/cats/\"\n",
        "DOG_SOURCE_DIR = \"/tmp/PetImages/Dog/\"\n",
        "TRAINING_DOGS_DIR = \"/tmp/cats-v-dogs/training/dogs/\"\n",
        "TESTING_DOGS_DIR = \"/tmp/cats-v-dogs/testing/dogs/\"\n",
        "\n",
        "split_size = .9\n",
        "split_data(CAT_SOURCE_DIR, TRAINING_CATS_DIR, TESTING_CATS_DIR, split_size)\n",
        "split_data(DOG_SOURCE_DIR, TRAINING_DOGS_DIR, TESTING_DOGS_DIR, split_size)\n",
        "\n",
        "# Expected output\n",
        "# 666.jpg is zero length, so ignoring\n",
        "# 11702.jpg is zero length, so ignoring"
      ],
      "execution_count": 5,
      "outputs": [
        {
          "output_type": "stream",
          "text": [
            "Zero Size file: 666.jpg\n",
            "Zero Size file: 11702.jpg\n"
          ],
          "name": "stdout"
        }
      ]
    },
    {
      "cell_type": "code",
      "metadata": {
        "id": "luthalB76ufC",
        "colab_type": "code",
        "outputId": "bfa7edb3-7d28-495e-a661-b575eaaa618b",
        "colab": {
          "base_uri": "https://localhost:8080/",
          "height": 85
        }
      },
      "source": [
        "print(len(os.listdir('/tmp/cats-v-dogs/training/cats/')))\n",
        "print(len(os.listdir('/tmp/cats-v-dogs/training/dogs/')))\n",
        "print(len(os.listdir('/tmp/cats-v-dogs/testing/cats/')))\n",
        "print(len(os.listdir('/tmp/cats-v-dogs/testing/dogs/')))\n",
        "\n",
        "# Expected output:\n",
        "# 11250\n",
        "# 11250\n",
        "# 1250\n",
        "# 1250"
      ],
      "execution_count": 6,
      "outputs": [
        {
          "output_type": "stream",
          "text": [
            "11250\n",
            "11250\n",
            "1250\n",
            "1250\n"
          ],
          "name": "stdout"
        }
      ]
    },
    {
      "cell_type": "code",
      "metadata": {
        "id": "-BQrav4anTmj",
        "colab_type": "code",
        "outputId": "ff2ff3d0-e887-4b47-c55c-e560a37d3aa1",
        "colab": {
          "base_uri": "https://localhost:8080/",
          "height": 139
        }
      },
      "source": [
        "# DEFINE A KERAS MODEL TO CLASSIFY CATS V DOGS\n",
        "# USE AT LEAST 3 CONVOLUTION LAYERS\n",
        "model = tf.keras.models.Sequential([\n",
        "    tf.keras.layers.Conv2D(32,(3,3),activation='relu',input_shape=(150,150,3)),\n",
        "    tf.keras.layers.MaxPool2D(2,2),\n",
        "    tf.keras.layers.Conv2D(64,(3,3),activation='relu'),\n",
        "    tf.keras.layers.MaxPool2D(2,2),\n",
        "    tf.keras.layers.Conv2D(64,(3,3),activation='relu'),\n",
        "    tf.keras.layers.MaxPool2D(2,2),\n",
        "    tf.keras.layers.Flatten(),\n",
        "    tf.keras.layers.Dense(128,activation='relu'),\n",
        "    tf.keras.layers.Dense(1,activation='sigmoid')\n",
        "])\n",
        "\n",
        "model.compile(optimizer=RMSprop(lr=0.001), loss='binary_crossentropy', metrics=['acc'])"
      ],
      "execution_count": 8,
      "outputs": [
        {
          "output_type": "stream",
          "text": [
            "WARNING:tensorflow:From /usr/local/lib/python3.6/dist-packages/tensorflow_core/python/ops/resource_variable_ops.py:1630: calling BaseResourceVariable.__init__ (from tensorflow.python.ops.resource_variable_ops) with constraint is deprecated and will be removed in a future version.\n",
            "Instructions for updating:\n",
            "If using Keras pass *_constraint arguments to layers.\n",
            "WARNING:tensorflow:From /usr/local/lib/python3.6/dist-packages/tensorflow_core/python/ops/nn_impl.py:183: where (from tensorflow.python.ops.array_ops) is deprecated and will be removed in a future version.\n",
            "Instructions for updating:\n",
            "Use tf.where in 2.0, which has the same broadcast rule as np.where\n"
          ],
          "name": "stdout"
        }
      ]
    },
    {
      "cell_type": "code",
      "metadata": {
        "id": "aeQvC2uMR09K",
        "colab_type": "code",
        "outputId": "ebee050f-877d-45d3-f0a4-a35d06dc0033",
        "colab": {
          "base_uri": "https://localhost:8080/",
          "height": 476
        }
      },
      "source": [
        "print(model.summary())"
      ],
      "execution_count": 9,
      "outputs": [
        {
          "output_type": "stream",
          "text": [
            "Model: \"sequential\"\n",
            "_________________________________________________________________\n",
            "Layer (type)                 Output Shape              Param #   \n",
            "=================================================================\n",
            "conv2d (Conv2D)              (None, 148, 148, 32)      896       \n",
            "_________________________________________________________________\n",
            "max_pooling2d (MaxPooling2D) (None, 74, 74, 32)        0         \n",
            "_________________________________________________________________\n",
            "conv2d_1 (Conv2D)            (None, 72, 72, 64)        18496     \n",
            "_________________________________________________________________\n",
            "max_pooling2d_1 (MaxPooling2 (None, 36, 36, 64)        0         \n",
            "_________________________________________________________________\n",
            "conv2d_2 (Conv2D)            (None, 34, 34, 64)        36928     \n",
            "_________________________________________________________________\n",
            "max_pooling2d_2 (MaxPooling2 (None, 17, 17, 64)        0         \n",
            "_________________________________________________________________\n",
            "flatten (Flatten)            (None, 18496)             0         \n",
            "_________________________________________________________________\n",
            "dense (Dense)                (None, 128)               2367616   \n",
            "_________________________________________________________________\n",
            "dense_1 (Dense)              (None, 1)                 129       \n",
            "=================================================================\n",
            "Total params: 2,424,065\n",
            "Trainable params: 2,424,065\n",
            "Non-trainable params: 0\n",
            "_________________________________________________________________\n",
            "None\n"
          ],
          "name": "stdout"
        }
      ]
    },
    {
      "cell_type": "code",
      "metadata": {
        "id": "mlNjoJ5D61N6",
        "colab_type": "code",
        "outputId": "65f81379-924c-4912-8952-7c0a78ce96c3",
        "colab": {
          "base_uri": "https://localhost:8080/",
          "height": 51
        }
      },
      "source": [
        "TRAINING_DIR = '/tmp/cats-v-dogs/training/'\n",
        "train_datagen = ImageDataGenerator(rescale=1.0/255)\n",
        "train_generator = train_datagen.flow_from_directory(TRAINING_DIR,target_size=(150,150),class_mode='binary',batch_size=20)\n",
        "\n",
        "VALIDATION_DIR = '/tmp/cats-v-dogs/testing/'\n",
        "validation_datagen = ImageDataGenerator(rescale=1.0/255)\n",
        "validation_generator = validation_datagen.flow_from_directory(VALIDATION_DIR,target_size=(150,150),class_mode='binary',batch_size=20)\n",
        "\n",
        "\n",
        "# Expected Output:\n",
        "# Found 22498 images belonging to 2 classes.\n",
        "# Found 2500 images belonging to 2 classes."
      ],
      "execution_count": 10,
      "outputs": [
        {
          "output_type": "stream",
          "text": [
            "Found 22498 images belonging to 2 classes.\n",
            "Found 2500 images belonging to 2 classes.\n"
          ],
          "name": "stdout"
        }
      ]
    },
    {
      "cell_type": "code",
      "metadata": {
        "id": "KyS4n53w7DxC",
        "colab_type": "code",
        "outputId": "31d9547e-41d6-4c45-afd3-ffd5fbe6ab9a",
        "colab": {
          "base_uri": "https://localhost:8080/",
          "height": 782
        }
      },
      "source": [
        "import warnings\n",
        "warnings.filterwarnings(\"ignore\")\n",
        "\n",
        "history = model.fit_generator(train_generator,\n",
        "                              epochs=15,\n",
        "                              verbose=1,\n",
        "                              validation_data=validation_generator)\n",
        "\n",
        "# The expectation here is that the model will train, and that accuracy will be > 95% on both training and validation\n",
        "# i.e. acc:A1 and val_acc:A2 will be visible, and both A1 and A2 will be > .9"
      ],
      "execution_count": 11,
      "outputs": [
        {
          "output_type": "stream",
          "text": [
            "Epoch 1/15\n",
            "1124/1125 [============================>.] - ETA: 0s - loss: 0.5945 - acc: 0.6841Epoch 1/15\n",
            "1125/1125 [==============================] - 100s 89ms/step - loss: 0.5942 - acc: 0.6843 - val_loss: 0.4969 - val_acc: 0.7620\n",
            "Epoch 2/15\n",
            "1124/1125 [============================>.] - ETA: 0s - loss: 0.4596 - acc: 0.7869Epoch 1/15\n",
            "1125/1125 [==============================] - 98s 87ms/step - loss: 0.4597 - acc: 0.7869 - val_loss: 0.4148 - val_acc: 0.8080\n",
            "Epoch 3/15\n",
            "1124/1125 [============================>.] - ETA: 0s - loss: 0.3941 - acc: 0.8250Epoch 1/15\n",
            "1125/1125 [==============================] - 97s 86ms/step - loss: 0.3940 - acc: 0.8251 - val_loss: 0.3860 - val_acc: 0.8208\n",
            "Epoch 4/15\n",
            "1124/1125 [============================>.] - ETA: 0s - loss: 0.3532 - acc: 0.8489Epoch 1/15\n",
            "1125/1125 [==============================] - 97s 86ms/step - loss: 0.3531 - acc: 0.8490 - val_loss: 0.4008 - val_acc: 0.8228\n",
            "Epoch 5/15\n",
            "1124/1125 [============================>.] - ETA: 0s - loss: 0.3143 - acc: 0.8695Epoch 1/15\n",
            "1125/1125 [==============================] - 96s 86ms/step - loss: 0.3143 - acc: 0.8695 - val_loss: 0.3861 - val_acc: 0.8444\n",
            "Epoch 6/15\n",
            "1124/1125 [============================>.] - ETA: 0s - loss: 0.2869 - acc: 0.8848Epoch 1/15\n",
            "1125/1125 [==============================] - 96s 85ms/step - loss: 0.2868 - acc: 0.8847 - val_loss: 0.3610 - val_acc: 0.8472\n",
            "Epoch 7/15\n",
            "1124/1125 [============================>.] - ETA: 0s - loss: 0.2598 - acc: 0.8995Epoch 1/15\n",
            "1125/1125 [==============================] - 97s 87ms/step - loss: 0.2598 - acc: 0.8995 - val_loss: 0.5056 - val_acc: 0.8264\n",
            "Epoch 8/15\n",
            "1124/1125 [============================>.] - ETA: 0s - loss: 0.2474 - acc: 0.9076Epoch 1/15\n",
            "1125/1125 [==============================] - 96s 85ms/step - loss: 0.2474 - acc: 0.9075 - val_loss: 0.4927 - val_acc: 0.8352\n",
            "Epoch 9/15\n",
            "1124/1125 [============================>.] - ETA: 0s - loss: 0.2314 - acc: 0.9140Epoch 1/15\n",
            "1125/1125 [==============================] - 96s 85ms/step - loss: 0.2314 - acc: 0.9141 - val_loss: 0.4463 - val_acc: 0.8276\n",
            "Epoch 10/15\n",
            "1124/1125 [============================>.] - ETA: 0s - loss: 0.2231 - acc: 0.9196Epoch 1/15\n",
            "1125/1125 [==============================] - 97s 86ms/step - loss: 0.2231 - acc: 0.9196 - val_loss: 0.4364 - val_acc: 0.8372\n",
            "Epoch 11/15\n",
            "1124/1125 [============================>.] - ETA: 0s - loss: 0.2185 - acc: 0.9182Epoch 1/15\n",
            "1125/1125 [==============================] - 97s 86ms/step - loss: 0.2183 - acc: 0.9183 - val_loss: 0.7107 - val_acc: 0.8536\n",
            "Epoch 12/15\n",
            "1124/1125 [============================>.] - ETA: 0s - loss: 0.2144 - acc: 0.9224Epoch 1/15\n",
            "1125/1125 [==============================] - 97s 86ms/step - loss: 0.2143 - acc: 0.9224 - val_loss: 0.5093 - val_acc: 0.8468\n",
            "Epoch 13/15\n",
            "1124/1125 [============================>.] - ETA: 0s - loss: 0.2117 - acc: 0.9235Epoch 1/15\n",
            "1125/1125 [==============================] - 95s 85ms/step - loss: 0.2120 - acc: 0.9234 - val_loss: 0.5435 - val_acc: 0.8340\n",
            "Epoch 14/15\n",
            "1124/1125 [============================>.] - ETA: 0s - loss: 0.2145 - acc: 0.9267Epoch 1/15\n",
            "1125/1125 [==============================] - 97s 86ms/step - loss: 0.2146 - acc: 0.9266 - val_loss: 0.5301 - val_acc: 0.8512\n",
            "Epoch 15/15\n",
            "1124/1125 [============================>.] - ETA: 0s - loss: 0.2172 - acc: 0.9230Epoch 1/15\n",
            "1125/1125 [==============================] - 97s 86ms/step - loss: 0.2171 - acc: 0.9231 - val_loss: 0.7670 - val_acc: 0.8452\n"
          ],
          "name": "stdout"
        }
      ]
    },
    {
      "cell_type": "code",
      "metadata": {
        "id": "MWZrJN4-65RC",
        "colab_type": "code",
        "outputId": "a4a91fff-9a47-4c55-aea8-0131abc029d5",
        "colab": {
          "base_uri": "https://localhost:8080/",
          "height": 579
        }
      },
      "source": [
        "# PLOT LOSS AND ACCURACY\n",
        "%matplotlib inline\n",
        "\n",
        "import matplotlib.image  as mpimg\n",
        "import matplotlib.pyplot as plt\n",
        "\n",
        "#-----------------------------------------------------------\n",
        "# Retrieve a list of list results on training and test data\n",
        "# sets for each training epoch\n",
        "#-----------------------------------------------------------\n",
        "acc=history.history['acc']\n",
        "val_acc=history.history['val_acc']\n",
        "loss=history.history['loss']\n",
        "val_loss=history.history['val_loss']\n",
        "\n",
        "epochs=range(len(acc)) # Get number of epochs\n",
        "\n",
        "#------------------------------------------------\n",
        "# Plot training and validation accuracy per epoch\n",
        "#------------------------------------------------\n",
        "plt.plot(epochs, acc, 'r', label='Training Accuracy')\n",
        "plt.plot(epochs, val_acc, 'b', label='Validation Accuracy')\n",
        "plt.title('Training and validation accuracy')\n",
        "plt.legend(loc=\"upper left\")\n",
        "plt.figure()\n",
        "#------------------------------------------------\n",
        "# Plot training and validation loss per epoch\n",
        "#------------------------------------------------\n",
        "plt.plot(epochs, loss, 'r', label=\"Training Loss\")\n",
        "plt.plot(epochs, val_loss, 'b', label=\"Validation Loss\")\n",
        "plt.title('Training and validation loss')\n",
        "plt.legend(loc=0)\n",
        "plt.figure()\n",
        "# Desired output. Charts with training and validation metrics. No crash :)"
      ],
      "execution_count": 12,
      "outputs": [
        {
          "output_type": "execute_result",
          "data": {
            "text/plain": [
              "<Figure size 432x288 with 0 Axes>"
            ]
          },
          "metadata": {
            "tags": []
          },
          "execution_count": 12
        },
        {
          "output_type": "display_data",
          "data": {
            "image/png": "[encoded data removed]",
            "text/plain": [
              "<Figure size 432x288 with 1 Axes>"
            ]
          },
          "metadata": {
            "tags": []
          }
        },
        {
          "output_type": "display_data",
          "data": {
            "image/png": "[encoded data removed]",
            "text/plain": [
              "<Figure size 432x288 with 1 Axes>"
            ]
          },
          "metadata": {
            "tags": []
          }
        },
        {
          "output_type": "display_data",
          "data": {
            "text/plain": [
              "<Figure size 432x288 with 0 Axes>"
            ]
          },
          "metadata": {
            "tags": []
          }
        }
      ]
    },
    {
      "cell_type": "markdown",
      "metadata": {
        "id": "9kUCiahZYWBV",
        "colab_type": "text"
      },
      "source": [
        "**With Data Augmentation**\n",
        "\n"
      ]
    },
    {
      "cell_type": "code",
      "metadata": {
        "id": "l-Ts7BGgYTJO",
        "colab_type": "code",
        "outputId": "b0d275e1-9ffc-4b9a-b33c-18794d7d3db3",
        "colab": {
          "base_uri": "https://localhost:8080/",
          "height": 51
        }
      },
      "source": [
        "TRAINING_DIR = '/tmp/cats-v-dogs/training/'\n",
        "train_datagen = ImageDataGenerator(rescale=1.0/255,\n",
        "                                   rotation_range=40,\n",
        "                                   width_shift_range=0.2, \n",
        "                                   height_shift_range=0.2,\n",
        "                                   shear_range=0.2,\n",
        "                                   zoom_range=0.2,\n",
        "                                   horizontal_flip=True,\n",
        "                                   fill_mode='nearest'\n",
        "                                   )\n",
        "train_generator = train_datagen.flow_from_directory(TRAINING_DIR,target_size=(150,150),class_mode='binary',batch_size=20)\n",
        "\n",
        "VALIDATION_DIR = '/tmp/cats-v-dogs/testing/'\n",
        "validation_datagen = ImageDataGenerator(rescale=1.0/255)\n",
        "validation_generator = validation_datagen.flow_from_directory(VALIDATION_DIR,target_size=(150,150),class_mode='binary',batch_size=20)\n",
        "\n",
        "\n",
        "# Expected Output:\n",
        "# Found 22498 images belonging to 2 classes.\n",
        "# Found 2500 images belonging to 2 classes."
      ],
      "execution_count": 0,
      "outputs": [
        {
          "output_type": "stream",
          "text": [
            "Found 22498 images belonging to 2 classes.\n",
            "Found 2500 images belonging to 2 classes.\n"
          ],
          "name": "stdout"
        }
      ]
    },
    {
      "cell_type": "code",
      "metadata": {
        "id": "MAnbAygRt8cY",
        "colab_type": "code",
        "outputId": "94c8234d-0e67-42ae-d8f8-8516bdabc9e7",
        "colab": {
          "base_uri": "https://localhost:8080/",
          "height": 782
        }
      },
      "source": [
        "import warnings\n",
        "warnings.filterwarnings(\"ignore\")\n",
        "\n",
        "history = model.fit_generator(train_generator,\n",
        "                              epochs=15,\n",
        "                              verbose=1,\n",
        "                              validation_data=validation_generator)"
      ],
      "execution_count": 0,
      "outputs": [
        {
          "output_type": "stream",
          "text": [
            "Epoch 1/15\n",
            "1124/1125 [============================>.] - ETA: 0s - loss: 0.6572 - acc: 0.6229Epoch 1/15\n",
            "1125/1125 [==============================] - 207s 184ms/step - loss: 0.6572 - acc: 0.6230 - val_loss: 0.5466 - val_acc: 0.7176\n",
            "Epoch 2/15\n",
            "1124/1125 [============================>.] - ETA: 0s - loss: 0.5920 - acc: 0.6913Epoch 1/15\n",
            "1125/1125 [==============================] - 204s 181ms/step - loss: 0.5922 - acc: 0.6913 - val_loss: 0.5105 - val_acc: 0.7520\n",
            "Epoch 3/15\n",
            "1124/1125 [============================>.] - ETA: 0s - loss: 0.5657 - acc: 0.7147Epoch 1/15\n",
            "1125/1125 [==============================] - 204s 181ms/step - loss: 0.5657 - acc: 0.7147 - val_loss: 0.4934 - val_acc: 0.7696\n",
            "Epoch 4/15\n",
            "1124/1125 [============================>.] - ETA: 0s - loss: 0.5418 - acc: 0.7333Epoch 1/15\n",
            "1125/1125 [==============================] - 204s 181ms/step - loss: 0.5417 - acc: 0.7334 - val_loss: 0.5259 - val_acc: 0.7612\n",
            "Epoch 5/15\n",
            "1124/1125 [============================>.] - ETA: 0s - loss: 0.5282 - acc: 0.7418Epoch 1/15\n",
            "1125/1125 [==============================] - 205s 182ms/step - loss: 0.5282 - acc: 0.7418 - val_loss: 0.4319 - val_acc: 0.7956\n",
            "Epoch 6/15\n",
            "1124/1125 [============================>.] - ETA: 0s - loss: 0.5157 - acc: 0.7546Epoch 1/15\n",
            "1125/1125 [==============================] - 204s 182ms/step - loss: 0.5156 - acc: 0.7546 - val_loss: 0.4592 - val_acc: 0.7820\n",
            "Epoch 7/15\n",
            "1124/1125 [============================>.] - ETA: 0s - loss: 0.5099 - acc: 0.7565Epoch 1/15\n",
            "1125/1125 [==============================] - 204s 182ms/step - loss: 0.5097 - acc: 0.7565 - val_loss: 0.4562 - val_acc: 0.7992\n",
            "Epoch 8/15\n",
            "1124/1125 [============================>.] - ETA: 0s - loss: 0.4993 - acc: 0.7672Epoch 1/15\n",
            "1125/1125 [==============================] - 204s 181ms/step - loss: 0.4994 - acc: 0.7671 - val_loss: 0.4270 - val_acc: 0.8008\n",
            "Epoch 9/15\n",
            "1124/1125 [============================>.] - ETA: 0s - loss: 0.4906 - acc: 0.7724Epoch 1/15\n",
            "1125/1125 [==============================] - 205s 182ms/step - loss: 0.4906 - acc: 0.7724 - val_loss: 0.4037 - val_acc: 0.8228\n",
            "Epoch 10/15\n",
            "1124/1125 [============================>.] - ETA: 0s - loss: 0.4832 - acc: 0.7800Epoch 1/15\n",
            "1125/1125 [==============================] - 205s 182ms/step - loss: 0.4833 - acc: 0.7799 - val_loss: 0.3991 - val_acc: 0.8228\n",
            "Epoch 11/15\n",
            "1124/1125 [============================>.] - ETA: 0s - loss: 0.4754 - acc: 0.7856Epoch 1/15\n",
            "1125/1125 [==============================] - 205s 182ms/step - loss: 0.4754 - acc: 0.7856 - val_loss: 0.4189 - val_acc: 0.8108\n",
            "Epoch 12/15\n",
            "1124/1125 [============================>.] - ETA: 0s - loss: 0.4748 - acc: 0.7833Epoch 1/15\n",
            "1125/1125 [==============================] - 206s 183ms/step - loss: 0.4747 - acc: 0.7834 - val_loss: 0.3866 - val_acc: 0.8280\n",
            "Epoch 13/15\n",
            "1124/1125 [============================>.] - ETA: 0s - loss: 0.4734 - acc: 0.7872Epoch 1/15\n",
            "1125/1125 [==============================] - 207s 184ms/step - loss: 0.4732 - acc: 0.7873 - val_loss: 0.5402 - val_acc: 0.8060\n",
            "Epoch 14/15\n",
            "1124/1125 [============================>.] - ETA: 0s - loss: 0.4640 - acc: 0.7973Epoch 1/15\n",
            "1125/1125 [==============================] - 206s 183ms/step - loss: 0.4641 - acc: 0.7972 - val_loss: 0.3798 - val_acc: 0.8368\n",
            "Epoch 15/15\n",
            "1124/1125 [============================>.] - ETA: 0s - loss: 0.4611 - acc: 0.7964Epoch 1/15\n",
            "1125/1125 [==============================] - 207s 184ms/step - loss: 0.4612 - acc: 0.7963 - val_loss: 0.3782 - val_acc: 0.8296\n"
          ],
          "name": "stdout"
        }
      ]
    },
    {
      "cell_type": "code",
      "metadata": {
        "id": "3KC9ZtpiuJ6Y",
        "colab_type": "code",
        "outputId": "fac65961-6cb1-4b86-d763-ce285075e529",
        "colab": {
          "base_uri": "https://localhost:8080/",
          "height": 579
        }
      },
      "source": [
        "# PLOT LOSS AND ACCURACY\n",
        "%matplotlib inline\n",
        "\n",
        "import matplotlib.image  as mpimg\n",
        "import matplotlib.pyplot as plt\n",
        "\n",
        "#-----------------------------------------------------------\n",
        "# Retrieve a list of list results on training and test data\n",
        "# sets for each training epoch\n",
        "#-----------------------------------------------------------\n",
        "acc=history.history['acc']\n",
        "val_acc=history.history['val_acc']\n",
        "loss=history.history['loss']\n",
        "val_loss=history.history['val_loss']\n",
        "\n",
        "epochs=range(len(acc)) # Get number of epochs\n",
        "\n",
        "#------------------------------------------------\n",
        "# Plot training and validation accuracy per epoch\n",
        "#------------------------------------------------\n",
        "plt.plot(epochs, acc, 'r', label='Training Accuracy')\n",
        "plt.plot(epochs, val_acc, 'b', label='Validation Accuracy')\n",
        "plt.title('Training and validation accuracy')\n",
        "plt.legend(loc=\"upper left\")\n",
        "plt.figure()\n",
        "#------------------------------------------------\n",
        "# Plot training and validation loss per epoch\n",
        "#------------------------------------------------\n",
        "plt.plot(epochs, loss, 'r', label=\"Training Loss\")\n",
        "plt.plot(epochs, val_loss, 'b', label=\"Validation Loss\")\n",
        "plt.title('Training and validation loss')\n",
        "plt.legend(loc=0)\n",
        "plt.figure()\n",
        "# Desired output. Charts with training and validation metrics. No crash :)"
      ],
      "execution_count": 0,
      "outputs": [
        {
          "output_type": "execute_result",
          "data": {
            "text/plain": [
              "<Figure size 432x288 with 0 Axes>"
            ]
          },
          "metadata": {
            "tags": []
          },
          "execution_count": 20
        },
        {
          "output_type": "display_data",
          "data": {
            "image/png": "[encoded data removed]",
            "text/plain": [
              "<Figure size 432x288 with 1 Axes>"
            ]
          },
          "metadata": {
            "tags": []
          }
        },
        {
          "output_type": "display_data",
          "data": {
            "image/png": "[encoded data removed]",
            "text/plain": [
              "<Figure size 432x288 with 1 Axes>"
            ]
          },
          "metadata": {
            "tags": []
          }
        },
        {
          "output_type": "display_data",
          "data": {
            "text/plain": [
              "<Figure size 432x288 with 0 Axes>"
            ]
          },
          "metadata": {
            "tags": []
          }
        }
      ]
    },
    {
      "cell_type": "code",
      "metadata": {
        "id": "LqL6FYUrtXpf",
        "colab_type": "code",
        "colab": {}
      },
      "source": [
        "# Here's a codeblock just for fun. You should be able to upload an image here \n",
        "# and have it classified without crashing\n",
        "\n",
        "import numpy as np\n",
        "from google.colab import files\n",
        "from keras.preprocessing import image\n",
        "\n",
        "uploaded = files.upload()\n",
        "\n",
        "for fn in uploaded.keys():\n",
        " \n",
        "  # predicting images\n",
        "  path = '/content/' + fn\n",
        "  img = image.load_img(path, target_size=(# YOUR CODE HERE))\n",
        "  x = image.img_to_array(img)\n",
        "  x = np.expand_dims(x, axis=0)\n",
        "\n",
        "  images = np.vstack([x])\n",
        "  classes = model.predict(images, batch_size=10)\n",
        "  print(classes[0])\n",
        "  if classes[0]>0.5:\n",
        "    print(fn + \" is a dog\")\n",
        "  else:\n",
        "    print(fn + \" is a cat\")"
      ],
      "execution_count": 0,
      "outputs": []
    }
  ]
}