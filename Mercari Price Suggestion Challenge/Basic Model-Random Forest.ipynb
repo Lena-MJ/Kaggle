{
 "cells": [
  {
   "cell_type": "code",
   "execution_count": 1,
   "metadata": {
    "ExecuteTime": {
     "end_time": "2017-11-22T05:14:26.557377Z",
     "start_time": "2017-11-22T05:14:23.434331Z"
    },
    "_cell_guid": "3ea8956d-0a9c-4b10-a389-ab19757e4f37",
    "_uuid": "95bb79f7a30bb248da9bb50abc3b2e14ea7233b8",
    "cell_style": "center",
    "collapsed": true
   },
   "outputs": [],
   "source": [
    "%matplotlib inline\n",
    "import pandas as pd\n",
    "from sklearn.ensemble import RandomForestRegressor, RandomForestClassifier\n",
    "from IPython.display import display\n",
    "from sklearn import metrics\n",
    "from sklearn.model_selection import train_test_split\n",
    "from scipy.cluster import hierarchy as hc\n",
    "import os\n",
    "import numpy as np"
   ]
  },
  {
   "cell_type": "markdown",
   "metadata": {
    "_cell_guid": "c1f66f28-bcaf-48cf-85c4-df265f8cd16f",
    "_uuid": "c7f41f05df904a50625ffa36506c68a982870ccc"
   },
   "source": [
    "# Data Loading"
   ]
  },
  {
   "cell_type": "code",
   "execution_count": 2,
   "metadata": {
    "ExecuteTime": {
     "end_time": "2017-11-22T04:37:02.220526Z",
     "start_time": "2017-11-22T04:37:02.169725Z"
    },
    "_cell_guid": "3ed66c95-c58f-4985-986f-6a186522015d",
    "_uuid": "c7581f66d7587a44733b40aba636cd0fe3cc7af4",
    "collapsed": true
   },
   "outputs": [],
   "source": [
    "types_dict_train = {'train_id': 'int64',\n",
    "             'item_condition_id': 'int8',\n",
    "             'price': 'float64',\n",
    "             'shipping': 'int8'}"
   ]
  },
  {
   "cell_type": "code",
   "execution_count": 3,
   "metadata": {
    "ExecuteTime": {
     "end_time": "2017-11-22T04:37:17.933387Z",
     "start_time": "2017-11-22T04:37:17.879608Z"
    },
    "_cell_guid": "5d0458f2-57cb-4b00-8ea1-3b8d9da9f408",
    "_uuid": "64af09880e7e66c31f4fe9752e432c9493a25162",
    "collapsed": true
   },
   "outputs": [],
   "source": [
    "types_dict_test = {'test_id': 'int64',\n",
    "             'item_condition_id': 'int8',\n",
    "             'shipping': 'int8'}"
   ]
  },
  {
   "cell_type": "code",
   "execution_count": 4,
   "metadata": {
    "ExecuteTime": {
     "end_time": "2017-11-22T04:37:37.552037Z",
     "start_time": "2017-11-22T04:37:34.017634Z"
    },
    "_cell_guid": "1c887db3-a165-479c-90ac-be64861cef70",
    "_uuid": "9f77d046c0684b82fc7f8ba16ea32e24f7b648f7",
    "collapsed": true
   },
   "outputs": [],
   "source": [
    "#read data for local machine\n",
    "curr_dir= os.getcwd()\n",
    "train = pd.read_csv(curr_dir+\"//Dataset/train.tsv\", sep='\\t')\n",
    "test = pd.read_csv(curr_dir+\"//Dataset/test.tsv\",sep='\\t')"
   ]
  },
  {
   "cell_type": "code",
   "execution_count": 5,
   "metadata": {
    "ExecuteTime": {
     "end_time": "2017-11-22T04:37:42.883269Z",
     "start_time": "2017-11-22T04:37:42.821215Z"
    },
    "_cell_guid": "d148712a-32bc-4aff-9049-fa22bf68b825",
    "_uuid": "53676f174049c3971df87febf7b8234cb765f630"
   },
   "outputs": [
    {
     "data": {
      "text/html": [
       "<div>\n",
       "<style>\n",
       "    .dataframe thead tr:only-child th {\n",
       "        text-align: right;\n",
       "    }\n",
       "\n",
       "    .dataframe thead th {\n",
       "        text-align: left;\n",
       "    }\n",
       "\n",
       "    .dataframe tbody tr th {\n",
       "        vertical-align: top;\n",
       "    }\n",
       "</style>\n",
       "<table border=\"1\" class=\"dataframe\">\n",
       "  <thead>\n",
       "    <tr style=\"text-align: right;\">\n",
       "      <th></th>\n",
       "      <th>train_id</th>\n",
       "      <th>name</th>\n",
       "      <th>item_condition_id</th>\n",
       "      <th>category_name</th>\n",
       "      <th>brand_name</th>\n",
       "      <th>price</th>\n",
       "      <th>shipping</th>\n",
       "      <th>item_description</th>\n",
       "    </tr>\n",
       "  </thead>\n",
       "  <tbody>\n",
       "    <tr>\n",
       "      <th>0</th>\n",
       "      <td>0</td>\n",
       "      <td>MLB Cincinnati Reds T Shirt Size XL</td>\n",
       "      <td>3</td>\n",
       "      <td>Men/Tops/T-shirts</td>\n",
       "      <td>NaN</td>\n",
       "      <td>10.0</td>\n",
       "      <td>1</td>\n",
       "      <td>No description yet</td>\n",
       "    </tr>\n",
       "    <tr>\n",
       "      <th>1</th>\n",
       "      <td>1</td>\n",
       "      <td>Razer BlackWidow Chroma Keyboard</td>\n",
       "      <td>3</td>\n",
       "      <td>Electronics/Computers &amp; Tablets/Components &amp; P...</td>\n",
       "      <td>Razer</td>\n",
       "      <td>52.0</td>\n",
       "      <td>0</td>\n",
       "      <td>This keyboard is in great condition and works ...</td>\n",
       "    </tr>\n",
       "    <tr>\n",
       "      <th>2</th>\n",
       "      <td>2</td>\n",
       "      <td>AVA-VIV Blouse</td>\n",
       "      <td>1</td>\n",
       "      <td>Women/Tops &amp; Blouses/Blouse</td>\n",
       "      <td>Target</td>\n",
       "      <td>10.0</td>\n",
       "      <td>1</td>\n",
       "      <td>Adorable top with a hint of lace and a key hol...</td>\n",
       "    </tr>\n",
       "    <tr>\n",
       "      <th>3</th>\n",
       "      <td>3</td>\n",
       "      <td>Leather Horse Statues</td>\n",
       "      <td>1</td>\n",
       "      <td>Home/Home Décor/Home Décor Accents</td>\n",
       "      <td>NaN</td>\n",
       "      <td>35.0</td>\n",
       "      <td>1</td>\n",
       "      <td>New with tags. Leather horses. Retail for [rm]...</td>\n",
       "    </tr>\n",
       "    <tr>\n",
       "      <th>4</th>\n",
       "      <td>4</td>\n",
       "      <td>24K GOLD plated rose</td>\n",
       "      <td>1</td>\n",
       "      <td>Women/Jewelry/Necklaces</td>\n",
       "      <td>NaN</td>\n",
       "      <td>44.0</td>\n",
       "      <td>0</td>\n",
       "      <td>Complete with certificate of authenticity</td>\n",
       "    </tr>\n",
       "  </tbody>\n",
       "</table>\n",
       "</div>"
      ],
      "text/plain": [
       "   train_id                                 name  item_condition_id  \\\n",
       "0         0  MLB Cincinnati Reds T Shirt Size XL                  3   \n",
       "1         1     Razer BlackWidow Chroma Keyboard                  3   \n",
       "2         2                       AVA-VIV Blouse                  1   \n",
       "3         3                Leather Horse Statues                  1   \n",
       "4         4                 24K GOLD plated rose                  1   \n",
       "\n",
       "                                       category_name brand_name  price  \\\n",
       "0                                  Men/Tops/T-shirts        NaN   10.0   \n",
       "1  Electronics/Computers & Tablets/Components & P...      Razer   52.0   \n",
       "2                        Women/Tops & Blouses/Blouse     Target   10.0   \n",
       "3                 Home/Home Décor/Home Décor Accents        NaN   35.0   \n",
       "4                            Women/Jewelry/Necklaces        NaN   44.0   \n",
       "\n",
       "   shipping                                   item_description  \n",
       "0         1                                 No description yet  \n",
       "1         0  This keyboard is in great condition and works ...  \n",
       "2         1  Adorable top with a hint of lace and a key hol...  \n",
       "3         1  New with tags. Leather horses. Retail for [rm]...  \n",
       "4         0          Complete with certificate of authenticity  "
      ]
     },
     "execution_count": 5,
     "metadata": {},
     "output_type": "execute_result"
    }
   ],
   "source": [
    "train.head()"
   ]
  },
  {
   "cell_type": "code",
   "execution_count": 6,
   "metadata": {
    "ExecuteTime": {
     "end_time": "2017-11-22T04:37:47.23794Z",
     "start_time": "2017-11-22T04:37:47.17188Z"
    },
    "_cell_guid": "10426d20-8609-4330-b17c-040fae43bb64",
    "_uuid": "5d463ab814ed59a6de4622f0a2de94f4ceb25861",
    "scrolled": true
   },
   "outputs": [
    {
     "data": {
      "text/html": [
       "<div>\n",
       "<style>\n",
       "    .dataframe thead tr:only-child th {\n",
       "        text-align: right;\n",
       "    }\n",
       "\n",
       "    .dataframe thead th {\n",
       "        text-align: left;\n",
       "    }\n",
       "\n",
       "    .dataframe tbody tr th {\n",
       "        vertical-align: top;\n",
       "    }\n",
       "</style>\n",
       "<table border=\"1\" class=\"dataframe\">\n",
       "  <thead>\n",
       "    <tr style=\"text-align: right;\">\n",
       "      <th></th>\n",
       "      <th>test_id</th>\n",
       "      <th>name</th>\n",
       "      <th>item_condition_id</th>\n",
       "      <th>category_name</th>\n",
       "      <th>brand_name</th>\n",
       "      <th>shipping</th>\n",
       "      <th>item_description</th>\n",
       "    </tr>\n",
       "  </thead>\n",
       "  <tbody>\n",
       "    <tr>\n",
       "      <th>0</th>\n",
       "      <td>0</td>\n",
       "      <td>Breast cancer \"I fight like a girl\" ring</td>\n",
       "      <td>1</td>\n",
       "      <td>Women/Jewelry/Rings</td>\n",
       "      <td>NaN</td>\n",
       "      <td>1</td>\n",
       "      <td>Size 7</td>\n",
       "    </tr>\n",
       "    <tr>\n",
       "      <th>1</th>\n",
       "      <td>1</td>\n",
       "      <td>25 pcs NEW 7.5\"x12\" Kraft Bubble Mailers</td>\n",
       "      <td>1</td>\n",
       "      <td>Other/Office supplies/Shipping Supplies</td>\n",
       "      <td>NaN</td>\n",
       "      <td>1</td>\n",
       "      <td>25 pcs NEW 7.5\"x12\" Kraft Bubble Mailers Lined...</td>\n",
       "    </tr>\n",
       "    <tr>\n",
       "      <th>2</th>\n",
       "      <td>2</td>\n",
       "      <td>Coach bag</td>\n",
       "      <td>1</td>\n",
       "      <td>Vintage &amp; Collectibles/Bags and Purses/Handbag</td>\n",
       "      <td>Coach</td>\n",
       "      <td>1</td>\n",
       "      <td>Brand new coach bag. Bought for [rm] at a Coac...</td>\n",
       "    </tr>\n",
       "    <tr>\n",
       "      <th>3</th>\n",
       "      <td>3</td>\n",
       "      <td>Floral Kimono</td>\n",
       "      <td>2</td>\n",
       "      <td>Women/Sweaters/Cardigan</td>\n",
       "      <td>NaN</td>\n",
       "      <td>0</td>\n",
       "      <td>-floral kimono -never worn -lightweight and pe...</td>\n",
       "    </tr>\n",
       "    <tr>\n",
       "      <th>4</th>\n",
       "      <td>4</td>\n",
       "      <td>Life after Death</td>\n",
       "      <td>3</td>\n",
       "      <td>Other/Books/Religion &amp; Spirituality</td>\n",
       "      <td>NaN</td>\n",
       "      <td>1</td>\n",
       "      <td>Rediscovering life after the loss of a loved o...</td>\n",
       "    </tr>\n",
       "  </tbody>\n",
       "</table>\n",
       "</div>"
      ],
      "text/plain": [
       "   test_id                                      name  item_condition_id  \\\n",
       "0        0  Breast cancer \"I fight like a girl\" ring                  1   \n",
       "1        1  25 pcs NEW 7.5\"x12\" Kraft Bubble Mailers                  1   \n",
       "2        2                                 Coach bag                  1   \n",
       "3        3                             Floral Kimono                  2   \n",
       "4        4                          Life after Death                  3   \n",
       "\n",
       "                                    category_name brand_name  shipping  \\\n",
       "0                             Women/Jewelry/Rings        NaN         1   \n",
       "1         Other/Office supplies/Shipping Supplies        NaN         1   \n",
       "2  Vintage & Collectibles/Bags and Purses/Handbag      Coach         1   \n",
       "3                         Women/Sweaters/Cardigan        NaN         0   \n",
       "4             Other/Books/Religion & Spirituality        NaN         1   \n",
       "\n",
       "                                    item_description  \n",
       "0                                             Size 7  \n",
       "1  25 pcs NEW 7.5\"x12\" Kraft Bubble Mailers Lined...  \n",
       "2  Brand new coach bag. Bought for [rm] at a Coac...  \n",
       "3  -floral kimono -never worn -lightweight and pe...  \n",
       "4  Rediscovering life after the loss of a loved o...  "
      ]
     },
     "execution_count": 6,
     "metadata": {},
     "output_type": "execute_result"
    }
   ],
   "source": [
    "test.head()"
   ]
  },
  {
   "cell_type": "code",
   "execution_count": 7,
   "metadata": {
    "ExecuteTime": {
     "end_time": "2017-11-22T04:37:49.752799Z",
     "start_time": "2017-11-22T04:37:49.693402Z"
    },
    "_cell_guid": "38729a86-0311-4dbc-b016-62f8a9a70c3f",
    "_uuid": "269400bf7649c1a68bc12afe099688e54a6ebf87"
   },
   "outputs": [
    {
     "data": {
      "text/plain": [
       "((1482535, 8), (693359, 7))"
      ]
     },
     "execution_count": 7,
     "metadata": {},
     "output_type": "execute_result"
    }
   ],
   "source": [
    "train.shape,test.shape"
   ]
  },
  {
   "cell_type": "code",
   "execution_count": 8,
   "metadata": {
    "ExecuteTime": {
     "end_time": "2017-11-22T04:10:08.730979Z",
     "start_time": "2017-11-22T04:10:08.692629Z"
    },
    "_cell_guid": "e84e03b4-625f-4dae-b64d-41ebd67e916d",
    "_uuid": "65f9a0081a54a6f093e69b439674058513bd3d11",
    "collapsed": true
   },
   "outputs": [],
   "source": [
    "def display_all(df):\n",
    "    with pd.option_context(\"display.max_rows\", 1000): \n",
    "        with pd.option_context(\"display.max_columns\", 1000): \n",
    "            display(df)"
   ]
  },
  {
   "cell_type": "code",
   "execution_count": 9,
   "metadata": {
    "ExecuteTime": {
     "end_time": "2017-11-22T04:10:23.806895Z",
     "start_time": "2017-11-22T04:10:18.550851Z"
    },
    "_cell_guid": "caf635cf-ba79-40ba-9239-50aa0d2c9094",
    "_uuid": "b82c0d13b4aa0aacc01e4bb840fa59c8db640543"
   },
   "outputs": [
    {
     "data": {
      "text/html": [
       "<div>\n",
       "<style>\n",
       "    .dataframe thead tr:only-child th {\n",
       "        text-align: right;\n",
       "    }\n",
       "\n",
       "    .dataframe thead th {\n",
       "        text-align: left;\n",
       "    }\n",
       "\n",
       "    .dataframe tbody tr th {\n",
       "        vertical-align: top;\n",
       "    }\n",
       "</style>\n",
       "<table border=\"1\" class=\"dataframe\">\n",
       "  <thead>\n",
       "    <tr style=\"text-align: right;\">\n",
       "      <th></th>\n",
       "      <th>count</th>\n",
       "      <th>unique</th>\n",
       "      <th>top</th>\n",
       "      <th>freq</th>\n",
       "      <th>mean</th>\n",
       "      <th>std</th>\n",
       "      <th>min</th>\n",
       "      <th>25%</th>\n",
       "      <th>50%</th>\n",
       "      <th>75%</th>\n",
       "      <th>max</th>\n",
       "    </tr>\n",
       "  </thead>\n",
       "  <tbody>\n",
       "    <tr>\n",
       "      <th>train_id</th>\n",
       "      <td>1.48254e+06</td>\n",
       "      <td>NaN</td>\n",
       "      <td>NaN</td>\n",
       "      <td>NaN</td>\n",
       "      <td>741267</td>\n",
       "      <td>427971</td>\n",
       "      <td>0</td>\n",
       "      <td>370634</td>\n",
       "      <td>741267</td>\n",
       "      <td>1.1119e+06</td>\n",
       "      <td>1.48253e+06</td>\n",
       "    </tr>\n",
       "    <tr>\n",
       "      <th>name</th>\n",
       "      <td>1482535</td>\n",
       "      <td>1225273</td>\n",
       "      <td>Bundle</td>\n",
       "      <td>2232</td>\n",
       "      <td>NaN</td>\n",
       "      <td>NaN</td>\n",
       "      <td>NaN</td>\n",
       "      <td>NaN</td>\n",
       "      <td>NaN</td>\n",
       "      <td>NaN</td>\n",
       "      <td>NaN</td>\n",
       "    </tr>\n",
       "    <tr>\n",
       "      <th>item_condition_id</th>\n",
       "      <td>1.48254e+06</td>\n",
       "      <td>NaN</td>\n",
       "      <td>NaN</td>\n",
       "      <td>NaN</td>\n",
       "      <td>1.90738</td>\n",
       "      <td>0.903159</td>\n",
       "      <td>1</td>\n",
       "      <td>1</td>\n",
       "      <td>2</td>\n",
       "      <td>3</td>\n",
       "      <td>5</td>\n",
       "    </tr>\n",
       "    <tr>\n",
       "      <th>category_name</th>\n",
       "      <td>1476208</td>\n",
       "      <td>1287</td>\n",
       "      <td>Women/Athletic Apparel/Pants, Tights, Leggings</td>\n",
       "      <td>60177</td>\n",
       "      <td>NaN</td>\n",
       "      <td>NaN</td>\n",
       "      <td>NaN</td>\n",
       "      <td>NaN</td>\n",
       "      <td>NaN</td>\n",
       "      <td>NaN</td>\n",
       "      <td>NaN</td>\n",
       "    </tr>\n",
       "    <tr>\n",
       "      <th>brand_name</th>\n",
       "      <td>849853</td>\n",
       "      <td>4809</td>\n",
       "      <td>PINK</td>\n",
       "      <td>54088</td>\n",
       "      <td>NaN</td>\n",
       "      <td>NaN</td>\n",
       "      <td>NaN</td>\n",
       "      <td>NaN</td>\n",
       "      <td>NaN</td>\n",
       "      <td>NaN</td>\n",
       "      <td>NaN</td>\n",
       "    </tr>\n",
       "    <tr>\n",
       "      <th>price</th>\n",
       "      <td>1.48254e+06</td>\n",
       "      <td>NaN</td>\n",
       "      <td>NaN</td>\n",
       "      <td>NaN</td>\n",
       "      <td>26.7375</td>\n",
       "      <td>38.5861</td>\n",
       "      <td>0</td>\n",
       "      <td>10</td>\n",
       "      <td>17</td>\n",
       "      <td>29</td>\n",
       "      <td>2009</td>\n",
       "    </tr>\n",
       "    <tr>\n",
       "      <th>shipping</th>\n",
       "      <td>1.48254e+06</td>\n",
       "      <td>NaN</td>\n",
       "      <td>NaN</td>\n",
       "      <td>NaN</td>\n",
       "      <td>0.447274</td>\n",
       "      <td>0.497212</td>\n",
       "      <td>0</td>\n",
       "      <td>0</td>\n",
       "      <td>0</td>\n",
       "      <td>1</td>\n",
       "      <td>1</td>\n",
       "    </tr>\n",
       "    <tr>\n",
       "      <th>item_description</th>\n",
       "      <td>1482531</td>\n",
       "      <td>1281426</td>\n",
       "      <td>No description yet</td>\n",
       "      <td>82489</td>\n",
       "      <td>NaN</td>\n",
       "      <td>NaN</td>\n",
       "      <td>NaN</td>\n",
       "      <td>NaN</td>\n",
       "      <td>NaN</td>\n",
       "      <td>NaN</td>\n",
       "      <td>NaN</td>\n",
       "    </tr>\n",
       "  </tbody>\n",
       "</table>\n",
       "</div>"
      ],
      "text/plain": [
       "                         count   unique  \\\n",
       "train_id           1.48254e+06      NaN   \n",
       "name                   1482535  1225273   \n",
       "item_condition_id  1.48254e+06      NaN   \n",
       "category_name          1476208     1287   \n",
       "brand_name              849853     4809   \n",
       "price              1.48254e+06      NaN   \n",
       "shipping           1.48254e+06      NaN   \n",
       "item_description       1482531  1281426   \n",
       "\n",
       "                                                              top   freq  \\\n",
       "train_id                                                      NaN    NaN   \n",
       "name                                                       Bundle   2232   \n",
       "item_condition_id                                             NaN    NaN   \n",
       "category_name      Women/Athletic Apparel/Pants, Tights, Leggings  60177   \n",
       "brand_name                                                   PINK  54088   \n",
       "price                                                         NaN    NaN   \n",
       "shipping                                                      NaN    NaN   \n",
       "item_description                               No description yet  82489   \n",
       "\n",
       "                       mean       std  min     25%     50%         75%  \\\n",
       "train_id             741267    427971    0  370634  741267  1.1119e+06   \n",
       "name                    NaN       NaN  NaN     NaN     NaN         NaN   \n",
       "item_condition_id   1.90738  0.903159    1       1       2           3   \n",
       "category_name           NaN       NaN  NaN     NaN     NaN         NaN   \n",
       "brand_name              NaN       NaN  NaN     NaN     NaN         NaN   \n",
       "price               26.7375   38.5861    0      10      17          29   \n",
       "shipping           0.447274  0.497212    0       0       0           1   \n",
       "item_description        NaN       NaN  NaN     NaN     NaN         NaN   \n",
       "\n",
       "                           max  \n",
       "train_id           1.48253e+06  \n",
       "name                       NaN  \n",
       "item_condition_id            5  \n",
       "category_name              NaN  \n",
       "brand_name                 NaN  \n",
       "price                     2009  \n",
       "shipping                     1  \n",
       "item_description           NaN  "
      ]
     },
     "metadata": {},
     "output_type": "display_data"
    }
   ],
   "source": [
    "display_all(train.describe(include='all').transpose())"
   ]
  },
  {
   "cell_type": "markdown",
   "metadata": {},
   "source": [
    "### convert category name, item description, name and brand_name into categorical value"
   ]
  },
  {
   "cell_type": "code",
   "execution_count": 10,
   "metadata": {
    "ExecuteTime": {
     "end_time": "2017-11-22T04:40:50.802462Z",
     "start_time": "2017-11-22T04:40:45.000273Z"
    },
    "_cell_guid": "b24cb3cf-bde4-4db1-a354-4273119e1924",
    "_uuid": "d59a2535be90a32f1f6c08c0489ea24ae6fb6c38",
    "collapsed": true
   },
   "outputs": [],
   "source": [
    "\n",
    "train.category_name = train.category_name.astype('category')\n",
    "train.item_description = train.item_description.astype('category')\n",
    "\n",
    "train.name = train.name.astype('category')\n",
    "train.brand_name = train.brand_name.astype('category')"
   ]
  },
  {
   "cell_type": "code",
   "execution_count": 11,
   "metadata": {
    "ExecuteTime": {
     "end_time": "2017-11-22T04:44:39.277687Z",
     "start_time": "2017-11-22T04:44:34.294501Z"
    },
    "_cell_guid": "3c26f4cc-38f9-4254-bba0-185bdd5929d7",
    "_uuid": "354255e22f2cee155ea456833a156b4792a2ba22",
    "collapsed": true
   },
   "outputs": [],
   "source": [
    "test.category_name = test.category_name.astype('category')\n",
    "test.item_description = test.item_description.astype('category')\n",
    "\n",
    "test.name = test.name.astype('category')\n",
    "test.brand_name = test.brand_name.astype('category')"
   ]
  },
  {
   "cell_type": "markdown",
   "metadata": {},
   "source": [
    "### Check the type, unique values and null values in our dataset"
   ]
  },
  {
   "cell_type": "code",
   "execution_count": 12,
   "metadata": {
    "ExecuteTime": {
     "end_time": "2017-11-22T04:45:14.961363Z",
     "start_time": "2017-11-22T04:45:14.908522Z"
    },
    "_cell_guid": "2104406e-1af0-44cb-8a0f-33b2aedbda22",
    "_uuid": "3a27fccca203e5e21345a38c2856e1522927ae92"
   },
   "outputs": [
    {
     "data": {
      "text/plain": [
       "train_id                int64\n",
       "name                 category\n",
       "item_condition_id       int64\n",
       "category_name        category\n",
       "brand_name           category\n",
       "price                 float64\n",
       "shipping                int64\n",
       "item_description     category\n",
       "dtype: object"
      ]
     },
     "execution_count": 12,
     "metadata": {},
     "output_type": "execute_result"
    }
   ],
   "source": [
    "train.dtypes"
   ]
  },
  {
   "cell_type": "code",
   "execution_count": 13,
   "metadata": {
    "ExecuteTime": {
     "end_time": "2017-11-22T04:46:17.569205Z",
     "start_time": "2017-11-22T04:46:17.520149Z"
    },
    "_cell_guid": "cddbce09-2a90-4572-a014-dd78da9727c7",
    "_uuid": "12778757bd439559616c78b3e5f410d9742efc91"
   },
   "outputs": [
    {
     "data": {
      "text/plain": [
       "test_id                 int64\n",
       "name                 category\n",
       "item_condition_id       int64\n",
       "category_name        category\n",
       "brand_name           category\n",
       "shipping                int64\n",
       "item_description     category\n",
       "dtype: object"
      ]
     },
     "execution_count": 13,
     "metadata": {},
     "output_type": "execute_result"
    }
   ],
   "source": [
    "test.dtypes"
   ]
  },
  {
   "cell_type": "code",
   "execution_count": 14,
   "metadata": {
    "ExecuteTime": {
     "end_time": "2017-11-22T04:13:01.33679Z",
     "start_time": "2017-11-22T04:12:58.839338Z"
    },
    "_cell_guid": "0b623a46-b519-4c89-861a-74ec4c45118f",
    "_uuid": "2bc163967d176bdad9c9837964172c2a7f7a1f37"
   },
   "outputs": [
    {
     "data": {
      "text/plain": [
       "train_id             1482535\n",
       "name                 1225273\n",
       "item_condition_id          5\n",
       "category_name           1287\n",
       "brand_name              4809\n",
       "price                    828\n",
       "shipping                   2\n",
       "item_description     1281426\n",
       "dtype: int64"
      ]
     },
     "execution_count": 14,
     "metadata": {},
     "output_type": "execute_result"
    }
   ],
   "source": [
    "train.apply(lambda x: x.nunique())"
   ]
  },
  {
   "cell_type": "code",
   "execution_count": 15,
   "metadata": {
    "ExecuteTime": {
     "end_time": "2017-11-22T04:13:58.023149Z",
     "start_time": "2017-11-22T04:13:56.501299Z"
    },
    "_cell_guid": "74586021-9928-4a02-9adb-069f0bfcbe00",
    "_uuid": "ed051ddab810255fc364b05d791c1b57abd94819"
   },
   "outputs": [
    {
     "data": {
      "text/plain": [
       "test_id              693359\n",
       "name                 601117\n",
       "item_condition_id         5\n",
       "category_name          1223\n",
       "brand_name             3900\n",
       "shipping                  2\n",
       "item_description     609555\n",
       "dtype: int64"
      ]
     },
     "execution_count": 15,
     "metadata": {},
     "output_type": "execute_result"
    }
   ],
   "source": [
    "test.apply(lambda x: x.nunique())"
   ]
  },
  {
   "cell_type": "code",
   "execution_count": 18,
   "metadata": {
    "ExecuteTime": {
     "end_time": "2017-11-22T04:16:36.832241Z",
     "start_time": "2017-11-22T04:16:35.630508Z"
    },
    "_cell_guid": "e6b23ef2-5903-4900-b8c7-3565cb129dfc",
    "_uuid": "ef86544bfbf8fabc8e799f56c678889597db7ca4"
   },
   "outputs": [
    {
     "name": "stdout",
     "output_type": "stream",
     "text": [
      "train_id                  0\n",
      "name                      0\n",
      "item_condition_id         0\n",
      "category_name          6327\n",
      "brand_name           632682\n",
      "price                     0\n",
      "shipping                  0\n",
      "item_description          4\n",
      "dtype: int64\n",
      "-----------------------------------\n"
     ]
    },
    {
     "data": {
      "text/plain": [
       "train_id             0.000000\n",
       "name                 0.000000\n",
       "item_condition_id    0.000000\n",
       "category_name        0.004268\n",
       "brand_name           0.426757\n",
       "price                0.000000\n",
       "shipping             0.000000\n",
       "item_description     0.000003\n",
       "dtype: float64"
      ]
     },
     "execution_count": 18,
     "metadata": {},
     "output_type": "execute_result"
    }
   ],
   "source": [
    "print(train.isnull().sum())\n",
    "print('-----------------------------------')\n",
    "train.isnull().sum()/train.shape[0]"
   ]
  },
  {
   "cell_type": "code",
   "execution_count": 19,
   "metadata": {
    "ExecuteTime": {
     "end_time": "2017-11-22T04:17:30.623806Z",
     "start_time": "2017-11-22T04:17:30.042882Z"
    },
    "_cell_guid": "3886ca3a-20cb-4890-ab18-01be13cbdeab",
    "_uuid": "017ac8d56a71452037cb4cc03505ca165be6fda5"
   },
   "outputs": [
    {
     "name": "stdout",
     "output_type": "stream",
     "text": [
      "test_id                   0\n",
      "name                      0\n",
      "item_condition_id         0\n",
      "category_name          3058\n",
      "brand_name           295525\n",
      "shipping                  0\n",
      "item_description          0\n",
      "dtype: int64\n",
      "------------------------\n"
     ]
    },
    {
     "data": {
      "text/plain": [
       "test_id              0.000000\n",
       "name                 0.000000\n",
       "item_condition_id    0.000000\n",
       "category_name        0.004410\n",
       "brand_name           0.426222\n",
       "shipping             0.000000\n",
       "item_description     0.000000\n",
       "dtype: float64"
      ]
     },
     "execution_count": 19,
     "metadata": {},
     "output_type": "execute_result"
    }
   ],
   "source": [
    "print(test.isnull().sum())\n",
    "print('------------------------')\n",
    "test.isnull().sum()/test.shape[0]"
   ]
  },
  {
   "cell_type": "markdown",
   "metadata": {
    "_cell_guid": "209f7598-64eb-4c63-bcbe-e407d470747e",
    "_uuid": "a62d8fdf45f1e51e66359b0427339dc5d6b1df25"
   },
   "source": [
    "# Model Building"
   ]
  },
  {
   "cell_type": "code",
   "execution_count": 20,
   "metadata": {
    "ExecuteTime": {
     "start_time": "2017-11-22T05:16:01.597Z"
    },
    "_cell_guid": "63bca895-a10c-418b-9475-38700232818d",
    "_uuid": "1a17fb895f722cb26bc6f61f7ecbd62e2f6ae0c0",
    "collapsed": true
   },
   "outputs": [],
   "source": [
    "train = train.rename(columns = {'train_id':'id'})"
   ]
  },
  {
   "cell_type": "code",
   "execution_count": 21,
   "metadata": {
    "_cell_guid": "7508a916-4689-4538-a741-b2eb5b651740",
    "_uuid": "f0420a86bc4a09ee9f14ae12adec4544651a8347"
   },
   "outputs": [
    {
     "data": {
      "text/html": [
       "<div>\n",
       "<style>\n",
       "    .dataframe thead tr:only-child th {\n",
       "        text-align: right;\n",
       "    }\n",
       "\n",
       "    .dataframe thead th {\n",
       "        text-align: left;\n",
       "    }\n",
       "\n",
       "    .dataframe tbody tr th {\n",
       "        vertical-align: top;\n",
       "    }\n",
       "</style>\n",
       "<table border=\"1\" class=\"dataframe\">\n",
       "  <thead>\n",
       "    <tr style=\"text-align: right;\">\n",
       "      <th></th>\n",
       "      <th>id</th>\n",
       "      <th>name</th>\n",
       "      <th>item_condition_id</th>\n",
       "      <th>category_name</th>\n",
       "      <th>brand_name</th>\n",
       "      <th>price</th>\n",
       "      <th>shipping</th>\n",
       "      <th>item_description</th>\n",
       "    </tr>\n",
       "  </thead>\n",
       "  <tbody>\n",
       "    <tr>\n",
       "      <th>0</th>\n",
       "      <td>0</td>\n",
       "      <td>MLB Cincinnati Reds T Shirt Size XL</td>\n",
       "      <td>3</td>\n",
       "      <td>Men/Tops/T-shirts</td>\n",
       "      <td>NaN</td>\n",
       "      <td>10.0</td>\n",
       "      <td>1</td>\n",
       "      <td>No description yet</td>\n",
       "    </tr>\n",
       "    <tr>\n",
       "      <th>1</th>\n",
       "      <td>1</td>\n",
       "      <td>Razer BlackWidow Chroma Keyboard</td>\n",
       "      <td>3</td>\n",
       "      <td>Electronics/Computers &amp; Tablets/Components &amp; P...</td>\n",
       "      <td>Razer</td>\n",
       "      <td>52.0</td>\n",
       "      <td>0</td>\n",
       "      <td>This keyboard is in great condition and works ...</td>\n",
       "    </tr>\n",
       "    <tr>\n",
       "      <th>2</th>\n",
       "      <td>2</td>\n",
       "      <td>AVA-VIV Blouse</td>\n",
       "      <td>1</td>\n",
       "      <td>Women/Tops &amp; Blouses/Blouse</td>\n",
       "      <td>Target</td>\n",
       "      <td>10.0</td>\n",
       "      <td>1</td>\n",
       "      <td>Adorable top with a hint of lace and a key hol...</td>\n",
       "    </tr>\n",
       "    <tr>\n",
       "      <th>3</th>\n",
       "      <td>3</td>\n",
       "      <td>Leather Horse Statues</td>\n",
       "      <td>1</td>\n",
       "      <td>Home/Home Décor/Home Décor Accents</td>\n",
       "      <td>NaN</td>\n",
       "      <td>35.0</td>\n",
       "      <td>1</td>\n",
       "      <td>New with tags. Leather horses. Retail for [rm]...</td>\n",
       "    </tr>\n",
       "    <tr>\n",
       "      <th>4</th>\n",
       "      <td>4</td>\n",
       "      <td>24K GOLD plated rose</td>\n",
       "      <td>1</td>\n",
       "      <td>Women/Jewelry/Necklaces</td>\n",
       "      <td>NaN</td>\n",
       "      <td>44.0</td>\n",
       "      <td>0</td>\n",
       "      <td>Complete with certificate of authenticity</td>\n",
       "    </tr>\n",
       "  </tbody>\n",
       "</table>\n",
       "</div>"
      ],
      "text/plain": [
       "   id                                 name  item_condition_id  \\\n",
       "0   0  MLB Cincinnati Reds T Shirt Size XL                  3   \n",
       "1   1     Razer BlackWidow Chroma Keyboard                  3   \n",
       "2   2                       AVA-VIV Blouse                  1   \n",
       "3   3                Leather Horse Statues                  1   \n",
       "4   4                 24K GOLD plated rose                  1   \n",
       "\n",
       "                                       category_name brand_name  price  \\\n",
       "0                                  Men/Tops/T-shirts        NaN   10.0   \n",
       "1  Electronics/Computers & Tablets/Components & P...      Razer   52.0   \n",
       "2                        Women/Tops & Blouses/Blouse     Target   10.0   \n",
       "3                 Home/Home Décor/Home Décor Accents        NaN   35.0   \n",
       "4                            Women/Jewelry/Necklaces        NaN   44.0   \n",
       "\n",
       "   shipping                                   item_description  \n",
       "0         1                                 No description yet  \n",
       "1         0  This keyboard is in great condition and works ...  \n",
       "2         1  Adorable top with a hint of lace and a key hol...  \n",
       "3         1  New with tags. Leather horses. Retail for [rm]...  \n",
       "4         0          Complete with certificate of authenticity  "
      ]
     },
     "execution_count": 21,
     "metadata": {},
     "output_type": "execute_result"
    }
   ],
   "source": [
    "train.head()"
   ]
  },
  {
   "cell_type": "code",
   "execution_count": 22,
   "metadata": {
    "_cell_guid": "7ddcd9b2-c5b8-4fb9-ac05-c98ea71b32f2",
    "_uuid": "7d9cd23de2686abadb96c91b6ac8ab6050ee836f",
    "collapsed": true
   },
   "outputs": [],
   "source": [
    "test = test.rename(columns = {'test_id':'id'})"
   ]
  },
  {
   "cell_type": "code",
   "execution_count": 23,
   "metadata": {
    "_cell_guid": "798cc46c-1d89-4c2b-babe-413409504c03",
    "_uuid": "2da8094e4f4d550e9d5faf93f2cf9571b59f69f7"
   },
   "outputs": [
    {
     "data": {
      "text/html": [
       "<div>\n",
       "<style>\n",
       "    .dataframe thead tr:only-child th {\n",
       "        text-align: right;\n",
       "    }\n",
       "\n",
       "    .dataframe thead th {\n",
       "        text-align: left;\n",
       "    }\n",
       "\n",
       "    .dataframe tbody tr th {\n",
       "        vertical-align: top;\n",
       "    }\n",
       "</style>\n",
       "<table border=\"1\" class=\"dataframe\">\n",
       "  <thead>\n",
       "    <tr style=\"text-align: right;\">\n",
       "      <th></th>\n",
       "      <th>id</th>\n",
       "      <th>name</th>\n",
       "      <th>item_condition_id</th>\n",
       "      <th>category_name</th>\n",
       "      <th>brand_name</th>\n",
       "      <th>shipping</th>\n",
       "      <th>item_description</th>\n",
       "    </tr>\n",
       "  </thead>\n",
       "  <tbody>\n",
       "    <tr>\n",
       "      <th>0</th>\n",
       "      <td>0</td>\n",
       "      <td>Breast cancer \"I fight like a girl\" ring</td>\n",
       "      <td>1</td>\n",
       "      <td>Women/Jewelry/Rings</td>\n",
       "      <td>NaN</td>\n",
       "      <td>1</td>\n",
       "      <td>Size 7</td>\n",
       "    </tr>\n",
       "    <tr>\n",
       "      <th>1</th>\n",
       "      <td>1</td>\n",
       "      <td>25 pcs NEW 7.5\"x12\" Kraft Bubble Mailers</td>\n",
       "      <td>1</td>\n",
       "      <td>Other/Office supplies/Shipping Supplies</td>\n",
       "      <td>NaN</td>\n",
       "      <td>1</td>\n",
       "      <td>25 pcs NEW 7.5\"x12\" Kraft Bubble Mailers Lined...</td>\n",
       "    </tr>\n",
       "    <tr>\n",
       "      <th>2</th>\n",
       "      <td>2</td>\n",
       "      <td>Coach bag</td>\n",
       "      <td>1</td>\n",
       "      <td>Vintage &amp; Collectibles/Bags and Purses/Handbag</td>\n",
       "      <td>Coach</td>\n",
       "      <td>1</td>\n",
       "      <td>Brand new coach bag. Bought for [rm] at a Coac...</td>\n",
       "    </tr>\n",
       "    <tr>\n",
       "      <th>3</th>\n",
       "      <td>3</td>\n",
       "      <td>Floral Kimono</td>\n",
       "      <td>2</td>\n",
       "      <td>Women/Sweaters/Cardigan</td>\n",
       "      <td>NaN</td>\n",
       "      <td>0</td>\n",
       "      <td>-floral kimono -never worn -lightweight and pe...</td>\n",
       "    </tr>\n",
       "    <tr>\n",
       "      <th>4</th>\n",
       "      <td>4</td>\n",
       "      <td>Life after Death</td>\n",
       "      <td>3</td>\n",
       "      <td>Other/Books/Religion &amp; Spirituality</td>\n",
       "      <td>NaN</td>\n",
       "      <td>1</td>\n",
       "      <td>Rediscovering life after the loss of a loved o...</td>\n",
       "    </tr>\n",
       "  </tbody>\n",
       "</table>\n",
       "</div>"
      ],
      "text/plain": [
       "   id                                      name  item_condition_id  \\\n",
       "0   0  Breast cancer \"I fight like a girl\" ring                  1   \n",
       "1   1  25 pcs NEW 7.5\"x12\" Kraft Bubble Mailers                  1   \n",
       "2   2                                 Coach bag                  1   \n",
       "3   3                             Floral Kimono                  2   \n",
       "4   4                          Life after Death                  3   \n",
       "\n",
       "                                    category_name brand_name  shipping  \\\n",
       "0                             Women/Jewelry/Rings        NaN         1   \n",
       "1         Other/Office supplies/Shipping Supplies        NaN         1   \n",
       "2  Vintage & Collectibles/Bags and Purses/Handbag      Coach         1   \n",
       "3                         Women/Sweaters/Cardigan        NaN         0   \n",
       "4             Other/Books/Religion & Spirituality        NaN         1   \n",
       "\n",
       "                                    item_description  \n",
       "0                                             Size 7  \n",
       "1  25 pcs NEW 7.5\"x12\" Kraft Bubble Mailers Lined...  \n",
       "2  Brand new coach bag. Bought for [rm] at a Coac...  \n",
       "3  -floral kimono -never worn -lightweight and pe...  \n",
       "4  Rediscovering life after the loss of a loved o...  "
      ]
     },
     "execution_count": 23,
     "metadata": {},
     "output_type": "execute_result"
    }
   ],
   "source": [
    "test.head()"
   ]
  },
  {
   "cell_type": "code",
   "execution_count": 25,
   "metadata": {
    "ExecuteTime": {
     "end_time": "2017-11-22T05:15:16.764679Z",
     "start_time": "2017-11-22T05:15:16.710209Z"
    },
    "_cell_guid": "ef763566-c744-4f16-9a2c-bcfa52b63930",
    "_uuid": "cfb983f806e7011184d5da119dd89fa399bc2057",
    "collapsed": true
   },
   "outputs": [],
   "source": [
    "#adding new column so that train and test can be combine\n",
    "train['is_train'] = 1\n",
    "test['is_train'] = 0"
   ]
  },
  {
   "cell_type": "code",
   "execution_count": 26,
   "metadata": {
    "ExecuteTime": {
     "end_time": "2017-11-22T05:13:16.071154Z",
     "start_time": "2017-11-22T05:13:11.216991Z"
    },
    "_cell_guid": "ba717779-eef7-4041-93c3-5d7dcf2d1254",
    "_uuid": "8178d02a846b381373edc1849659e71f49078452",
    "collapsed": true
   },
   "outputs": [],
   "source": [
    "#combine train and test dataset by droping 'price'\n",
    "train_test_combine = pd.concat([train.drop(['price'],axis =1),test],axis = 0)"
   ]
  },
  {
   "cell_type": "code",
   "execution_count": 27,
   "metadata": {
    "_cell_guid": "88c31bef-3f57-4496-b532-2d141de60773",
    "_uuid": "9da55c1e9e36b3bb5610f4d4a9f97b9171303404",
    "collapsed": true
   },
   "outputs": [],
   "source": [
    "#converting into categorical values\n",
    "train_test_combine.category_name = train_test_combine.category_name.astype('category')\n",
    "train_test_combine.item_description = train_test_combine.item_description.astype('category')\n",
    "\n",
    "train_test_combine.name = train_test_combine.name.astype('category')\n",
    "train_test_combine.brand_name = train_test_combine.brand_name.astype('category')"
   ]
  },
  {
   "cell_type": "code",
   "execution_count": 28,
   "metadata": {
    "_cell_guid": "97acfe07-523a-4539-ad2f-82a5895f29ad",
    "_uuid": "3261a651f0b788f51de218da8a39e9da78faeec1",
    "collapsed": true
   },
   "outputs": [],
   "source": [
    "#drop item description\n",
    "train_test_combine = train_test_combine.drop(['item_description'],axis = 1)"
   ]
  },
  {
   "cell_type": "code",
   "execution_count": 29,
   "metadata": {
    "_cell_guid": "c4e88fc5-b309-440a-9498-c95a2af794ad",
    "_uuid": "be5b17dd326f51774d8b8350d4aa81e42a8843dd",
    "collapsed": true,
    "scrolled": true
   },
   "outputs": [],
   "source": [
    "#use label encoding for name, category_name and brand_name\n",
    "train_test_combine.name = train_test_combine.name.cat.codes\n",
    "train_test_combine.category_name = train_test_combine.category_name.cat.codes\n",
    "train_test_combine.brand_name = train_test_combine.brand_name.cat.codes"
   ]
  },
  {
   "cell_type": "code",
   "execution_count": 30,
   "metadata": {
    "_cell_guid": "185434e1-957c-4215-861a-597685de00fe",
    "_uuid": "9c809db1a5fa083355608aacea213783dccc0f5b"
   },
   "outputs": [
    {
     "data": {
      "text/html": [
       "<div>\n",
       "<style>\n",
       "    .dataframe thead tr:only-child th {\n",
       "        text-align: right;\n",
       "    }\n",
       "\n",
       "    .dataframe thead th {\n",
       "        text-align: left;\n",
       "    }\n",
       "\n",
       "    .dataframe tbody tr th {\n",
       "        vertical-align: top;\n",
       "    }\n",
       "</style>\n",
       "<table border=\"1\" class=\"dataframe\">\n",
       "  <thead>\n",
       "    <tr style=\"text-align: right;\">\n",
       "      <th></th>\n",
       "      <th>id</th>\n",
       "      <th>name</th>\n",
       "      <th>item_condition_id</th>\n",
       "      <th>category_name</th>\n",
       "      <th>brand_name</th>\n",
       "      <th>shipping</th>\n",
       "      <th>is_train</th>\n",
       "    </tr>\n",
       "  </thead>\n",
       "  <tbody>\n",
       "    <tr>\n",
       "      <th>0</th>\n",
       "      <td>0</td>\n",
       "      <td>916335</td>\n",
       "      <td>3</td>\n",
       "      <td>829</td>\n",
       "      <td>-1</td>\n",
       "      <td>1</td>\n",
       "      <td>1</td>\n",
       "    </tr>\n",
       "    <tr>\n",
       "      <th>1</th>\n",
       "      <td>1</td>\n",
       "      <td>1292428</td>\n",
       "      <td>3</td>\n",
       "      <td>86</td>\n",
       "      <td>3889</td>\n",
       "      <td>0</td>\n",
       "      <td>1</td>\n",
       "    </tr>\n",
       "    <tr>\n",
       "      <th>2</th>\n",
       "      <td>2</td>\n",
       "      <td>131013</td>\n",
       "      <td>1</td>\n",
       "      <td>1277</td>\n",
       "      <td>4588</td>\n",
       "      <td>1</td>\n",
       "      <td>1</td>\n",
       "    </tr>\n",
       "    <tr>\n",
       "      <th>3</th>\n",
       "      <td>3</td>\n",
       "      <td>802671</td>\n",
       "      <td>1</td>\n",
       "      <td>503</td>\n",
       "      <td>-1</td>\n",
       "      <td>1</td>\n",
       "      <td>1</td>\n",
       "    </tr>\n",
       "    <tr>\n",
       "      <th>4</th>\n",
       "      <td>4</td>\n",
       "      <td>65051</td>\n",
       "      <td>1</td>\n",
       "      <td>1204</td>\n",
       "      <td>-1</td>\n",
       "      <td>0</td>\n",
       "      <td>1</td>\n",
       "    </tr>\n",
       "  </tbody>\n",
       "</table>\n",
       "</div>"
      ],
      "text/plain": [
       "   id     name  item_condition_id  category_name  brand_name  shipping  \\\n",
       "0   0   916335                  3            829          -1         1   \n",
       "1   1  1292428                  3             86        3889         0   \n",
       "2   2   131013                  1           1277        4588         1   \n",
       "3   3   802671                  1            503          -1         1   \n",
       "4   4    65051                  1           1204          -1         0   \n",
       "\n",
       "   is_train  \n",
       "0         1  \n",
       "1         1  \n",
       "2         1  \n",
       "3         1  \n",
       "4         1  "
      ]
     },
     "execution_count": 30,
     "metadata": {},
     "output_type": "execute_result"
    }
   ],
   "source": [
    "train_test_combine.head()"
   ]
  },
  {
   "cell_type": "code",
   "execution_count": 31,
   "metadata": {
    "_cell_guid": "5f59b26f-29c8-42b4-b354-79c7b1da26b7",
    "_uuid": "862e3fc6d90d53d84f8616f0806bdefc254da4f1"
   },
   "outputs": [
    {
     "data": {
      "text/plain": [
       "id                   int64\n",
       "name                 int32\n",
       "item_condition_id    int64\n",
       "category_name        int16\n",
       "brand_name           int16\n",
       "shipping             int64\n",
       "is_train             int64\n",
       "dtype: object"
      ]
     },
     "execution_count": 31,
     "metadata": {},
     "output_type": "execute_result"
    }
   ],
   "source": [
    "train_test_combine.dtypes"
   ]
  },
  {
   "cell_type": "code",
   "execution_count": 32,
   "metadata": {
    "_cell_guid": "0c38adc8-6926-4015-9f79-14600d313440",
    "_uuid": "ce82b640ddf02e49b7f8e109f2258850f81ed209",
    "collapsed": true
   },
   "outputs": [],
   "source": [
    "#split the combine dataset into train and test\n",
    "df_test = train_test_combine.loc[train_test_combine['is_train']==0]\n",
    "df_train = train_test_combine.loc[train_test_combine['is_train']==1]"
   ]
  },
  {
   "cell_type": "code",
   "execution_count": 33,
   "metadata": {
    "_cell_guid": "3f4f4582-dfa3-4e6c-86b8-dc1895cf1ff7",
    "_uuid": "d5c352a5b225ed3fb72488aece1bbe22ab474090",
    "collapsed": true
   },
   "outputs": [],
   "source": [
    "#drop the columns is_train \n",
    "df_test = df_test.drop(['is_train'],axis=1)\n",
    "df_train = df_train.drop(['is_train'],axis=1)"
   ]
  },
  {
   "cell_type": "code",
   "execution_count": 34,
   "metadata": {
    "_cell_guid": "c9e449e3-fa47-4641-8dcc-97bfc3d590d3",
    "_uuid": "51472c1a4a29b4516a2073f2e647830fcffe0af8"
   },
   "outputs": [
    {
     "data": {
      "text/plain": [
       "(693359, 6)"
      ]
     },
     "execution_count": 34,
     "metadata": {},
     "output_type": "execute_result"
    }
   ],
   "source": [
    "df_test.shape"
   ]
  },
  {
   "cell_type": "code",
   "execution_count": 35,
   "metadata": {
    "_cell_guid": "b0c4d3c6-b6f1-4e05-992e-0929ab041bd4",
    "_uuid": "aeefd0c35111edc217b828869fd02fdb06a809ff"
   },
   "outputs": [
    {
     "data": {
      "text/plain": [
       "(1482535, 6)"
      ]
     },
     "execution_count": 35,
     "metadata": {},
     "output_type": "execute_result"
    }
   ],
   "source": [
    "df_train.shape"
   ]
  },
  {
   "cell_type": "code",
   "execution_count": 36,
   "metadata": {
    "_cell_guid": "51718424-3e86-4a53-a3ff-dce6931e5f81",
    "_uuid": "6695845636000ad762a3a78b405c19d5dd631cd4",
    "collapsed": true
   },
   "outputs": [],
   "source": [
    "#add price to our df_train data frame\n",
    "df_train['price'] = train.price"
   ]
  },
  {
   "cell_type": "code",
   "execution_count": 37,
   "metadata": {
    "_cell_guid": "74369eb3-f8c7-4d2e-b8a5-151fbf8c5307",
    "_uuid": "2f4be04c1ad3980b35014ae18edfe512444cb3d5",
    "collapsed": true
   },
   "outputs": [],
   "source": [
    "#apply log transform on the price for all values which are greater than 0, else return the value\n",
    "df_train['price'] = df_train['price'].apply(lambda x: np.log(x) if x>0 else x)"
   ]
  },
  {
   "cell_type": "code",
   "execution_count": 38,
   "metadata": {
    "_cell_guid": "6feb8f52-2f39-47ae-bd54-a1567c913966",
    "_uuid": "b3f516c17ff0510492b7977acf3e1e0ae3784215"
   },
   "outputs": [
    {
     "data": {
      "text/html": [
       "<div>\n",
       "<style>\n",
       "    .dataframe thead tr:only-child th {\n",
       "        text-align: right;\n",
       "    }\n",
       "\n",
       "    .dataframe thead th {\n",
       "        text-align: left;\n",
       "    }\n",
       "\n",
       "    .dataframe tbody tr th {\n",
       "        vertical-align: top;\n",
       "    }\n",
       "</style>\n",
       "<table border=\"1\" class=\"dataframe\">\n",
       "  <thead>\n",
       "    <tr style=\"text-align: right;\">\n",
       "      <th></th>\n",
       "      <th>id</th>\n",
       "      <th>name</th>\n",
       "      <th>item_condition_id</th>\n",
       "      <th>category_name</th>\n",
       "      <th>brand_name</th>\n",
       "      <th>shipping</th>\n",
       "      <th>price</th>\n",
       "    </tr>\n",
       "  </thead>\n",
       "  <tbody>\n",
       "    <tr>\n",
       "      <th>0</th>\n",
       "      <td>0</td>\n",
       "      <td>916335</td>\n",
       "      <td>3</td>\n",
       "      <td>829</td>\n",
       "      <td>-1</td>\n",
       "      <td>1</td>\n",
       "      <td>2.302585</td>\n",
       "    </tr>\n",
       "    <tr>\n",
       "      <th>1</th>\n",
       "      <td>1</td>\n",
       "      <td>1292428</td>\n",
       "      <td>3</td>\n",
       "      <td>86</td>\n",
       "      <td>3889</td>\n",
       "      <td>0</td>\n",
       "      <td>3.951244</td>\n",
       "    </tr>\n",
       "    <tr>\n",
       "      <th>2</th>\n",
       "      <td>2</td>\n",
       "      <td>131013</td>\n",
       "      <td>1</td>\n",
       "      <td>1277</td>\n",
       "      <td>4588</td>\n",
       "      <td>1</td>\n",
       "      <td>2.302585</td>\n",
       "    </tr>\n",
       "    <tr>\n",
       "      <th>3</th>\n",
       "      <td>3</td>\n",
       "      <td>802671</td>\n",
       "      <td>1</td>\n",
       "      <td>503</td>\n",
       "      <td>-1</td>\n",
       "      <td>1</td>\n",
       "      <td>3.555348</td>\n",
       "    </tr>\n",
       "    <tr>\n",
       "      <th>4</th>\n",
       "      <td>4</td>\n",
       "      <td>65051</td>\n",
       "      <td>1</td>\n",
       "      <td>1204</td>\n",
       "      <td>-1</td>\n",
       "      <td>0</td>\n",
       "      <td>3.784190</td>\n",
       "    </tr>\n",
       "  </tbody>\n",
       "</table>\n",
       "</div>"
      ],
      "text/plain": [
       "   id     name  item_condition_id  category_name  brand_name  shipping  \\\n",
       "0   0   916335                  3            829          -1         1   \n",
       "1   1  1292428                  3             86        3889         0   \n",
       "2   2   131013                  1           1277        4588         1   \n",
       "3   3   802671                  1            503          -1         1   \n",
       "4   4    65051                  1           1204          -1         0   \n",
       "\n",
       "      price  \n",
       "0  2.302585  \n",
       "1  3.951244  \n",
       "2  2.302585  \n",
       "3  3.555348  \n",
       "4  3.784190  "
      ]
     },
     "execution_count": 38,
     "metadata": {},
     "output_type": "execute_result"
    }
   ],
   "source": [
    "df_train.head()"
   ]
  },
  {
   "cell_type": "code",
   "execution_count": 41,
   "metadata": {
    "ExecuteTime": {
     "end_time": "2017-11-22T05:00:56.794278Z",
     "start_time": "2017-11-22T05:00:56.424571Z"
    },
    "_cell_guid": "ccb92d1b-ae91-4cc4-b5d8-36ec708e39fe",
    "_uuid": "58ed2cd0c84d6940de42bef6ffd48ace00cb86be",
    "collapsed": true
   },
   "outputs": [],
   "source": [
    "#split our df_train dataset into x_train and y_train which could be use for training model\n",
    "x_train,y_train = df_train.drop(['price'],axis =1),df_train.price"
   ]
  },
  {
   "cell_type": "code",
   "execution_count": 42,
   "metadata": {
    "_cell_guid": "faa1acf5-b422-4928-82a4-b2c42d21f061",
    "_uuid": "c4bcd6597cec34dad150225e3dbc949bbbd06855"
   },
   "outputs": [
    {
     "data": {
      "text/plain": [
       "0.79315353358665308"
      ]
     },
     "execution_count": 42,
     "metadata": {},
     "output_type": "execute_result"
    }
   ],
   "source": [
    "#creating a random forest regression model and check the score on train data\n",
    "m = RandomForestRegressor(n_jobs=-1,min_samples_leaf=3,n_estimators=200)\n",
    "m.fit(x_train, y_train)\n",
    "m.score(x_train,y_train)"
   ]
  },
  {
   "cell_type": "code",
   "execution_count": 43,
   "metadata": {
    "_cell_guid": "ef88273a-b659-4298-9abc-a41030c78d1c",
    "_uuid": "07d0c25aaa52467f6389adb69f5cb8461b630228",
    "collapsed": true
   },
   "outputs": [],
   "source": [
    "#predict on test data\n",
    "preds = m.predict(df_test)"
   ]
  },
  {
   "cell_type": "code",
   "execution_count": 44,
   "metadata": {
    "_cell_guid": "4fcf688a-3e3b-4de2-9a71-3d9f128a0899",
    "_uuid": "fd146e0b570f6dcc0e06f2f6223a9d4103f2a456",
    "collapsed": true
   },
   "outputs": [],
   "source": [
    "#applying exponent on price\n",
    "preds = pd.Series(np.exp(preds))"
   ]
  },
  {
   "cell_type": "code",
   "execution_count": 45,
   "metadata": {
    "_cell_guid": "ffd8a7f6-c5f6-4697-9362-db162b82f6f1",
    "_uuid": "57f432943a2a8ebd5228df74dc992d7995fe71a2"
   },
   "outputs": [
    {
     "data": {
      "text/plain": [
       "pandas.core.series.Series"
      ]
     },
     "execution_count": 45,
     "metadata": {},
     "output_type": "execute_result"
    }
   ],
   "source": [
    "type(preds)"
   ]
  },
  {
   "cell_type": "code",
   "execution_count": 47,
   "metadata": {
    "_cell_guid": "b08533b1-31e8-4baa-a2c4-41dd0db26150",
    "_uuid": "9fb6f5d3960ad515762ee15db99c05b4977a7b91",
    "collapsed": true
   },
   "outputs": [],
   "source": [
    "#appending test_id and price that we have predicted\n",
    "submit = pd.concat([df_test.id,preds],axis=1)\n",
    "submit.columns = ['test_id','price']"
   ]
  },
  {
   "cell_type": "code",
   "execution_count": 48,
   "metadata": {
    "_cell_guid": "ff56562f-df11-4adf-80f7-3818fab1bea8",
    "_uuid": "60f1c53ecb2a7e10a18e0a19982b20567a157095"
   },
   "outputs": [],
   "source": [
    "#submit\n",
    "submit.to_csv(curr_dir+\"//Basic_RandomForest_pred.csv\", index=False)"
   ]
  },
  {
   "cell_type": "code",
   "execution_count": null,
   "metadata": {
    "collapsed": true
   },
   "outputs": [],
   "source": []
  }
 ],
 "metadata": {
  "gist": {
   "data": {
    "description": "OneDrive/MSAN/Module2/kaggle/sale_price/mercari_price_suggestion.ipynb",
    "public": true
   },
   "id": ""
  },
  "kernelspec": {
   "display_name": "Python 3",
   "language": "python",
   "name": "python3"
  },
  "language_info": {
   "codemirror_mode": {
    "name": "ipython",
    "version": 3
   },
   "file_extension": ".py",
   "mimetype": "text/x-python",
   "name": "python",
   "nbconvert_exporter": "python",
   "pygments_lexer": "ipython3",
   "version": "3.6.3"
  },
  "toc": {
   "nav_menu": {},
   "number_sections": true,
   "sideBar": true,
   "skip_h1_title": false,
   "toc_cell": false,
   "toc_position": {},
   "toc_section_display": "block",
   "toc_window_display": false
  },
  "varInspector": {
   "cols": {
    "lenName": 16,
    "lenType": 16,
    "lenVar": 40
   },
   "kernels_config": {
    "python": {
     "delete_cmd_postfix": "",
     "delete_cmd_prefix": "del ",
     "library": "var_list.py",
     "varRefreshCmd": "print(var_dic_list())"
    },
    "r": {
     "delete_cmd_postfix": ") ",
     "delete_cmd_prefix": "rm(",
     "library": "var_list.r",
     "varRefreshCmd": "cat(var_dic_list()) "
    }
   },
   "types_to_exclude": [
    "module",
    "function",
    "builtin_function_or_method",
    "instance",
    "_Feature"
   ],
   "window_display": true
  }
 },
 "nbformat": 4,
 "nbformat_minor": 1
}
