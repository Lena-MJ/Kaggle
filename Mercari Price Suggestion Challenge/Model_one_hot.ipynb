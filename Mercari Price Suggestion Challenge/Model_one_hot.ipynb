{
 "cells": [
  {
   "cell_type": "code",
   "execution_count": 5,
   "metadata": {
    "collapsed": true
   },
   "outputs": [],
   "source": [
    "import pandas as pd\n",
    "import numpy as np\n",
    "import matplotlib.pyplot as plt\n",
    "%matplotlib inline\n",
    "import os\n",
    "import string\n",
    "import re\n",
    "from sklearn import decomposition\n",
    "from sklearn.ensemble import RandomForestRegressor, RandomForestClassifier"
   ]
  },
  {
   "cell_type": "code",
   "execution_count": 2,
   "metadata": {
    "collapsed": true
   },
   "outputs": [],
   "source": []
  },
  {
   "cell_type": "code",
   "execution_count": null,
   "metadata": {
    "collapsed": true
   },
   "outputs": [],
   "source": [
    "#read data from kaggle\n",
    "train = pd.read_csv('../input/train.tsv', sep='\\t')\n",
    "test = pd.read_csv('../input/test.tsv', sep='\\t')"
   ]
  },
  {
   "cell_type": "code",
   "execution_count": null,
   "metadata": {
    "collapsed": true
   },
   "outputs": [],
   "source": [
    "#read data for local machine\n",
    "curr_dir= os.getcwd()\n",
    "train = pd.read_csv(curr_dir+\"//Dataset/train.tsv\", sep='\\t')\n",
    "test = pd.read_csv(curr_dir+\"//Dataset/test.tsv\",sep='\\t')"
   ]
  },
  {
   "cell_type": "code",
   "execution_count": 13,
   "metadata": {},
   "outputs": [
    {
     "name": "stderr",
     "output_type": "stream",
     "text": [
      "C:\\Users\\tidyq\\AppData\\Local\\Continuum\\anaconda3\\lib\\site-packages\\IPython\\core\\interactiveshell.py:2698: DtypeWarning: Columns (3) have mixed types. Specify dtype option on import or set low_memory=False.\n",
      "  interactivity=interactivity, compiler=compiler, result=result)\n"
     ]
    }
   ],
   "source": [
    "#read csv file\n",
    "curr_dir= os.getcwd()\n",
    "train = pd.read_csv(curr_dir+\"//Dataset/train_with_brand_from_name.csv\",encoding = 'ISO-8859-1')\n",
    "test = pd.read_csv(curr_dir+\"//Dataset/test_with_brand_from_name.csv\",encoding = 'ISO-8859-1')"
   ]
  },
  {
   "cell_type": "code",
   "execution_count": 14,
   "metadata": {},
   "outputs": [
    {
     "data": {
      "text/html": [
       "<div>\n",
       "<style>\n",
       "    .dataframe thead tr:only-child th {\n",
       "        text-align: right;\n",
       "    }\n",
       "\n",
       "    .dataframe thead th {\n",
       "        text-align: left;\n",
       "    }\n",
       "\n",
       "    .dataframe tbody tr th {\n",
       "        vertical-align: top;\n",
       "    }\n",
       "</style>\n",
       "<table border=\"1\" class=\"dataframe\">\n",
       "  <thead>\n",
       "    <tr style=\"text-align: right;\">\n",
       "      <th></th>\n",
       "      <th>train_id</th>\n",
       "      <th>name</th>\n",
       "      <th>item_condition_id</th>\n",
       "      <th>brand_name</th>\n",
       "      <th>price</th>\n",
       "      <th>shipping</th>\n",
       "      <th>item_description</th>\n",
       "      <th>cat_1</th>\n",
       "      <th>cat_2</th>\n",
       "      <th>cat_3</th>\n",
       "    </tr>\n",
       "  </thead>\n",
       "  <tbody>\n",
       "    <tr>\n",
       "      <th>0</th>\n",
       "      <td>1</td>\n",
       "      <td>Razer BlackWidow Chroma Keyboard</td>\n",
       "      <td>3</td>\n",
       "      <td>Razer</td>\n",
       "      <td>52.0</td>\n",
       "      <td>0</td>\n",
       "      <td>This keyboard is in great condition and works ...</td>\n",
       "      <td>Electronics</td>\n",
       "      <td>Computers &amp; Tablets</td>\n",
       "      <td>Components &amp; Parts</td>\n",
       "    </tr>\n",
       "    <tr>\n",
       "      <th>1</th>\n",
       "      <td>2</td>\n",
       "      <td>AVA-VIV Blouse</td>\n",
       "      <td>1</td>\n",
       "      <td>Target</td>\n",
       "      <td>10.0</td>\n",
       "      <td>1</td>\n",
       "      <td>Adorable top with a hint of lace and a key hol...</td>\n",
       "      <td>Women</td>\n",
       "      <td>Tops &amp; Blouses</td>\n",
       "      <td>Blouse</td>\n",
       "    </tr>\n",
       "    <tr>\n",
       "      <th>2</th>\n",
       "      <td>6</td>\n",
       "      <td>Acacia pacific tides santorini top</td>\n",
       "      <td>3</td>\n",
       "      <td>Acacia Swimwear</td>\n",
       "      <td>64.0</td>\n",
       "      <td>0</td>\n",
       "      <td>Size small but straps slightly shortened to fi...</td>\n",
       "      <td>Women</td>\n",
       "      <td>Swimwear</td>\n",
       "      <td>Two-Piece</td>\n",
       "    </tr>\n",
       "    <tr>\n",
       "      <th>3</th>\n",
       "      <td>7</td>\n",
       "      <td>Girls cheer and tumbling bundle of 7</td>\n",
       "      <td>3</td>\n",
       "      <td>Soffe</td>\n",
       "      <td>6.0</td>\n",
       "      <td>1</td>\n",
       "      <td>You get three pairs of Sophie cheer shorts siz...</td>\n",
       "      <td>Sports &amp; Outdoors</td>\n",
       "      <td>Apparel</td>\n",
       "      <td>Girls</td>\n",
       "    </tr>\n",
       "    <tr>\n",
       "      <th>4</th>\n",
       "      <td>8</td>\n",
       "      <td>Girls Nike Pro shorts</td>\n",
       "      <td>3</td>\n",
       "      <td>Nike</td>\n",
       "      <td>19.0</td>\n",
       "      <td>0</td>\n",
       "      <td>Girls Size small Plus green. Three shorts total.</td>\n",
       "      <td>Sports &amp; Outdoors</td>\n",
       "      <td>Apparel</td>\n",
       "      <td>Girls</td>\n",
       "    </tr>\n",
       "  </tbody>\n",
       "</table>\n",
       "</div>"
      ],
      "text/plain": [
       "   train_id                                  name  item_condition_id  \\\n",
       "0         1      Razer BlackWidow Chroma Keyboard                  3   \n",
       "1         2                        AVA-VIV Blouse                  1   \n",
       "2         6    Acacia pacific tides santorini top                  3   \n",
       "3         7  Girls cheer and tumbling bundle of 7                  3   \n",
       "4         8                 Girls Nike Pro shorts                  3   \n",
       "\n",
       "        brand_name  price  shipping  \\\n",
       "0            Razer   52.0         0   \n",
       "1           Target   10.0         1   \n",
       "2  Acacia Swimwear   64.0         0   \n",
       "3            Soffe    6.0         1   \n",
       "4             Nike   19.0         0   \n",
       "\n",
       "                                    item_description              cat_1  \\\n",
       "0  This keyboard is in great condition and works ...        Electronics   \n",
       "1  Adorable top with a hint of lace and a key hol...              Women   \n",
       "2  Size small but straps slightly shortened to fi...              Women   \n",
       "3  You get three pairs of Sophie cheer shorts siz...  Sports & Outdoors   \n",
       "4   Girls Size small Plus green. Three shorts total.  Sports & Outdoors   \n",
       "\n",
       "                 cat_2               cat_3  \n",
       "0  Computers & Tablets  Components & Parts  \n",
       "1       Tops & Blouses              Blouse  \n",
       "2             Swimwear           Two-Piece  \n",
       "3              Apparel               Girls  \n",
       "4              Apparel               Girls  "
      ]
     },
     "execution_count": 14,
     "metadata": {},
     "output_type": "execute_result"
    }
   ],
   "source": [
    "train.head()"
   ]
  },
  {
   "cell_type": "code",
   "execution_count": 15,
   "metadata": {},
   "outputs": [
    {
     "data": {
      "text/plain": [
       "(1482535, 10)"
      ]
     },
     "execution_count": 15,
     "metadata": {},
     "output_type": "execute_result"
    }
   ],
   "source": [
    "train.shape"
   ]
  },
  {
   "cell_type": "code",
   "execution_count": 10,
   "metadata": {},
   "outputs": [
    {
     "data": {
      "text/html": [
       "<div>\n",
       "<style>\n",
       "    .dataframe thead tr:only-child th {\n",
       "        text-align: right;\n",
       "    }\n",
       "\n",
       "    .dataframe thead th {\n",
       "        text-align: left;\n",
       "    }\n",
       "\n",
       "    .dataframe tbody tr th {\n",
       "        vertical-align: top;\n",
       "    }\n",
       "</style>\n",
       "<table border=\"1\" class=\"dataframe\">\n",
       "  <thead>\n",
       "    <tr style=\"text-align: right;\">\n",
       "      <th></th>\n",
       "      <th>train_id</th>\n",
       "      <th>name</th>\n",
       "      <th>item_condition_id</th>\n",
       "      <th>brand_name</th>\n",
       "      <th>price</th>\n",
       "      <th>shipping</th>\n",
       "      <th>item_description</th>\n",
       "      <th>cat_1</th>\n",
       "      <th>cat_2</th>\n",
       "      <th>cat_3</th>\n",
       "    </tr>\n",
       "  </thead>\n",
       "  <tbody>\n",
       "    <tr>\n",
       "      <th>727270</th>\n",
       "      <td>1269153</td>\n",
       "      <td>Nike Airforce 1s</td>\n",
       "      <td>3</td>\n",
       "      <td>Nike</td>\n",
       "      <td>21.0</td>\n",
       "      <td>0</td>\n",
       "      <td>Air force 1s size 5c</td>\n",
       "      <td>Kids</td>\n",
       "      <td>Boys 2T-5T</td>\n",
       "      <td>Shoes</td>\n",
       "    </tr>\n",
       "    <tr>\n",
       "      <th>1387652</th>\n",
       "      <td>1190191</td>\n",
       "      <td>Women's Leopard Flats</td>\n",
       "      <td>3</td>\n",
       "      <td>NaN</td>\n",
       "      <td>11.0</td>\n",
       "      <td>0</td>\n",
       "      <td>Good condition. Size 8.</td>\n",
       "      <td>Women</td>\n",
       "      <td>Shoes</td>\n",
       "      <td>Flats</td>\n",
       "    </tr>\n",
       "    <tr>\n",
       "      <th>969382</th>\n",
       "      <td>1277773</td>\n",
       "      <td>Silver ClipOn's Bamboo Earrings</td>\n",
       "      <td>1</td>\n",
       "      <td>Silver</td>\n",
       "      <td>6.0</td>\n",
       "      <td>1</td>\n",
       "      <td>These hallow Clip On Bamboo earrings are perfe...</td>\n",
       "      <td>Women</td>\n",
       "      <td>Jewelry</td>\n",
       "      <td>Earrings</td>\n",
       "    </tr>\n",
       "    <tr>\n",
       "      <th>1443771</th>\n",
       "      <td>1363228</td>\n",
       "      <td>Lularoe TC leggings</td>\n",
       "      <td>3</td>\n",
       "      <td>NaN</td>\n",
       "      <td>18.0</td>\n",
       "      <td>1</td>\n",
       "      <td>Normal wash wear Air dried</td>\n",
       "      <td>Women</td>\n",
       "      <td>Athletic Apparel</td>\n",
       "      <td>Pants, Tights, Leggings</td>\n",
       "    </tr>\n",
       "    <tr>\n",
       "      <th>834984</th>\n",
       "      <td>1456435</td>\n",
       "      <td>iPhone 6/6s Bottle case</td>\n",
       "      <td>1</td>\n",
       "      <td>Apple</td>\n",
       "      <td>9.0</td>\n",
       "      <td>1</td>\n",
       "      <td>iPhone 6/6s bottle case I have all colors in s...</td>\n",
       "      <td>Electronics</td>\n",
       "      <td>Cell Phones &amp; Accessories</td>\n",
       "      <td>Cases, Covers &amp; Skins</td>\n",
       "    </tr>\n",
       "  </tbody>\n",
       "</table>\n",
       "</div>"
      ],
      "text/plain": [
       "         train_id                             name  item_condition_id  \\\n",
       "727270    1269153                 Nike Airforce 1s                  3   \n",
       "1387652   1190191            Women's Leopard Flats                  3   \n",
       "969382    1277773  Silver ClipOn's Bamboo Earrings                  1   \n",
       "1443771   1363228              Lularoe TC leggings                  3   \n",
       "834984    1456435          iPhone 6/6s Bottle case                  1   \n",
       "\n",
       "        brand_name  price  shipping  \\\n",
       "727270        Nike   21.0         0   \n",
       "1387652        NaN   11.0         0   \n",
       "969382      Silver    6.0         1   \n",
       "1443771        NaN   18.0         1   \n",
       "834984       Apple    9.0         1   \n",
       "\n",
       "                                          item_description        cat_1  \\\n",
       "727270                                Air force 1s size 5c         Kids   \n",
       "1387652                            Good condition. Size 8.        Women   \n",
       "969382   These hallow Clip On Bamboo earrings are perfe...        Women   \n",
       "1443771                         Normal wash wear Air dried        Women   \n",
       "834984   iPhone 6/6s bottle case I have all colors in s...  Electronics   \n",
       "\n",
       "                             cat_2                    cat_3  \n",
       "727270                  Boys 2T-5T                    Shoes  \n",
       "1387652                      Shoes                    Flats  \n",
       "969382                     Jewelry                 Earrings  \n",
       "1443771           Athletic Apparel  Pants, Tights, Leggings  \n",
       "834984   Cell Phones & Accessories    Cases, Covers & Skins  "
      ]
     },
     "execution_count": 10,
     "metadata": {},
     "output_type": "execute_result"
    }
   ],
   "source": [
    "test.head()"
   ]
  },
  {
   "cell_type": "code",
   "execution_count": null,
   "metadata": {
    "collapsed": true
   },
   "outputs": [],
   "source": [
    "'''def cat_split(row):\n",
    "    try:\n",
    "        text = row\n",
    "        txt1, txt2, txt3 = text.split('/')\n",
    "        return txt1, txt2, txt3\n",
    "    except:\n",
    "        return np.nan, np.nan, np.nan\n",
    "\n",
    "train[\"cat_1\"], train[\"cat_2\"], train[\"cat_3\"] = zip(*train.category_name.apply(lambda val: cat_split(val)))\n",
    "test[\"cat_1\"], test[\"cat_2\"], test[\"cat_3\"] = zip(*test.category_name.apply(lambda val: cat_split(val)))\n",
    "'''"
   ]
  },
  {
   "cell_type": "code",
   "execution_count": 7,
   "metadata": {},
   "outputs": [
    {
     "name": "stdout",
     "output_type": "stream",
     "text": [
      "<class 'pandas.core.frame.DataFrame'>\n",
      "RangeIndex: 1482535 entries, 0 to 1482534\n",
      "Data columns (total 10 columns):\n",
      "train_id             1482535 non-null int64\n",
      "name                 1482535 non-null object\n",
      "item_condition_id    1482535 non-null int64\n",
      "brand_name           1000532 non-null object\n",
      "price                1482535 non-null float64\n",
      "shipping             1482535 non-null int64\n",
      "item_description     1482531 non-null object\n",
      "cat_1                1471819 non-null object\n",
      "cat_2                1471819 non-null object\n",
      "cat_3                1471819 non-null object\n",
      "dtypes: float64(1), int64(3), object(6)\n",
      "memory usage: 113.1+ MB\n",
      "------------------------------------------\n",
      "<class 'pandas.core.frame.DataFrame'>\n",
      "RangeIndex: 693359 entries, 0 to 693358\n",
      "Data columns (total 9 columns):\n",
      "test_id              693359 non-null int64\n",
      "name                 693359 non-null object\n",
      "item_condition_id    693359 non-null int64\n",
      "brand_name           468187 non-null object\n",
      "shipping             693359 non-null int64\n",
      "item_description     693359 non-null object\n",
      "cat_1                688255 non-null object\n",
      "cat_2                688255 non-null object\n",
      "cat_3                688255 non-null object\n",
      "dtypes: int64(3), object(6)\n",
      "memory usage: 47.6+ MB\n"
     ]
    }
   ],
   "source": [
    "train.info()\n",
    "print(\"------------------------------------------\")\n",
    "test.info()"
   ]
  },
  {
   "cell_type": "code",
   "execution_count": 8,
   "metadata": {},
   "outputs": [
    {
     "name": "stdout",
     "output_type": "stream",
     "text": [
      "train_id                  0\n",
      "name                      0\n",
      "item_condition_id         0\n",
      "brand_name           482003\n",
      "price                     0\n",
      "shipping                  0\n",
      "item_description          4\n",
      "cat_1                 10716\n",
      "cat_2                 10716\n",
      "cat_3                 10716\n",
      "dtype: int64\n",
      "---------------------------\n"
     ]
    },
    {
     "data": {
      "text/plain": [
       "test_id                   0\n",
       "name                      0\n",
       "item_condition_id         0\n",
       "brand_name           225172\n",
       "shipping                  0\n",
       "item_description          0\n",
       "cat_1                  5104\n",
       "cat_2                  5104\n",
       "cat_3                  5104\n",
       "dtype: int64"
      ]
     },
     "execution_count": 8,
     "metadata": {},
     "output_type": "execute_result"
    }
   ],
   "source": [
    "print(train.isnull().sum())\n",
    "print (\"---------------------------\")\n",
    "test.isnull().sum()"
   ]
  },
  {
   "cell_type": "code",
   "execution_count": null,
   "metadata": {
    "collapsed": true
   },
   "outputs": [],
   "source": [
    "'''\n",
    "train.drop(['category_name'], axis=1, inplace = True)\n",
    "test.drop(['category_name'], axis=1, inplace = True)\n",
    "'''"
   ]
  },
  {
   "cell_type": "code",
   "execution_count": 11,
   "metadata": {
    "collapsed": true
   },
   "outputs": [],
   "source": [
    "train = train.rename(columns = {'train_id':'id'})\n",
    "test = test.rename(columns = {'test_id':'id'})"
   ]
  },
  {
   "cell_type": "code",
   "execution_count": 12,
   "metadata": {
    "collapsed": true
   },
   "outputs": [],
   "source": [
    "train['is_train'] = 1\n",
    "test['is_train'] = 0"
   ]
  },
  {
   "cell_type": "code",
   "execution_count": 11,
   "metadata": {
    "collapsed": true
   },
   "outputs": [],
   "source": [
    "train_test_combine = pd.concat([train.drop(['price'],axis =1),test],axis = 0)"
   ]
  },
  {
   "cell_type": "code",
   "execution_count": 12,
   "metadata": {},
   "outputs": [
    {
     "data": {
      "text/html": [
       "<div>\n",
       "<style>\n",
       "    .dataframe thead tr:only-child th {\n",
       "        text-align: right;\n",
       "    }\n",
       "\n",
       "    .dataframe thead th {\n",
       "        text-align: left;\n",
       "    }\n",
       "\n",
       "    .dataframe tbody tr th {\n",
       "        vertical-align: top;\n",
       "    }\n",
       "</style>\n",
       "<table border=\"1\" class=\"dataframe\">\n",
       "  <thead>\n",
       "    <tr style=\"text-align: right;\">\n",
       "      <th></th>\n",
       "      <th>id</th>\n",
       "      <th>name</th>\n",
       "      <th>item_condition_id</th>\n",
       "      <th>brand_name</th>\n",
       "      <th>shipping</th>\n",
       "      <th>item_description</th>\n",
       "      <th>cat_1</th>\n",
       "      <th>cat_2</th>\n",
       "      <th>cat_3</th>\n",
       "      <th>is_train</th>\n",
       "    </tr>\n",
       "  </thead>\n",
       "  <tbody>\n",
       "    <tr>\n",
       "      <th>0</th>\n",
       "      <td>1</td>\n",
       "      <td>Razer BlackWidow Chroma Keyboard</td>\n",
       "      <td>3</td>\n",
       "      <td>Razer</td>\n",
       "      <td>0</td>\n",
       "      <td>This keyboard is in great condition and works ...</td>\n",
       "      <td>Electronics</td>\n",
       "      <td>Computers &amp; Tablets</td>\n",
       "      <td>Components &amp; Parts</td>\n",
       "      <td>1</td>\n",
       "    </tr>\n",
       "    <tr>\n",
       "      <th>1</th>\n",
       "      <td>2</td>\n",
       "      <td>AVA-VIV Blouse</td>\n",
       "      <td>1</td>\n",
       "      <td>Target</td>\n",
       "      <td>1</td>\n",
       "      <td>Adorable top with a hint of lace and a key hol...</td>\n",
       "      <td>Women</td>\n",
       "      <td>Tops &amp; Blouses</td>\n",
       "      <td>Blouse</td>\n",
       "      <td>1</td>\n",
       "    </tr>\n",
       "    <tr>\n",
       "      <th>2</th>\n",
       "      <td>6</td>\n",
       "      <td>Acacia pacific tides santorini top</td>\n",
       "      <td>3</td>\n",
       "      <td>Acacia Swimwear</td>\n",
       "      <td>0</td>\n",
       "      <td>Size small but straps slightly shortened to fi...</td>\n",
       "      <td>Women</td>\n",
       "      <td>Swimwear</td>\n",
       "      <td>Two-Piece</td>\n",
       "      <td>1</td>\n",
       "    </tr>\n",
       "    <tr>\n",
       "      <th>3</th>\n",
       "      <td>7</td>\n",
       "      <td>Girls cheer and tumbling bundle of 7</td>\n",
       "      <td>3</td>\n",
       "      <td>Soffe</td>\n",
       "      <td>1</td>\n",
       "      <td>You get three pairs of Sophie cheer shorts siz...</td>\n",
       "      <td>Sports &amp; Outdoors</td>\n",
       "      <td>Apparel</td>\n",
       "      <td>Girls</td>\n",
       "      <td>1</td>\n",
       "    </tr>\n",
       "    <tr>\n",
       "      <th>4</th>\n",
       "      <td>8</td>\n",
       "      <td>Girls Nike Pro shorts</td>\n",
       "      <td>3</td>\n",
       "      <td>Nike</td>\n",
       "      <td>0</td>\n",
       "      <td>Girls Size small Plus green. Three shorts total.</td>\n",
       "      <td>Sports &amp; Outdoors</td>\n",
       "      <td>Apparel</td>\n",
       "      <td>Girls</td>\n",
       "      <td>1</td>\n",
       "    </tr>\n",
       "  </tbody>\n",
       "</table>\n",
       "</div>"
      ],
      "text/plain": [
       "   id                                  name  item_condition_id  \\\n",
       "0   1      Razer BlackWidow Chroma Keyboard                  3   \n",
       "1   2                        AVA-VIV Blouse                  1   \n",
       "2   6    Acacia pacific tides santorini top                  3   \n",
       "3   7  Girls cheer and tumbling bundle of 7                  3   \n",
       "4   8                 Girls Nike Pro shorts                  3   \n",
       "\n",
       "        brand_name  shipping  \\\n",
       "0            Razer         0   \n",
       "1           Target         1   \n",
       "2  Acacia Swimwear         0   \n",
       "3            Soffe         1   \n",
       "4             Nike         0   \n",
       "\n",
       "                                    item_description              cat_1  \\\n",
       "0  This keyboard is in great condition and works ...        Electronics   \n",
       "1  Adorable top with a hint of lace and a key hol...              Women   \n",
       "2  Size small but straps slightly shortened to fi...              Women   \n",
       "3  You get three pairs of Sophie cheer shorts siz...  Sports & Outdoors   \n",
       "4   Girls Size small Plus green. Three shorts total.  Sports & Outdoors   \n",
       "\n",
       "                 cat_2               cat_3  is_train  \n",
       "0  Computers & Tablets  Components & Parts         1  \n",
       "1       Tops & Blouses              Blouse         1  \n",
       "2             Swimwear           Two-Piece         1  \n",
       "3              Apparel               Girls         1  \n",
       "4              Apparel               Girls         1  "
      ]
     },
     "execution_count": 12,
     "metadata": {},
     "output_type": "execute_result"
    }
   ],
   "source": [
    "train_test_combine.head()"
   ]
  },
  {
   "cell_type": "code",
   "execution_count": 13,
   "metadata": {},
   "outputs": [
    {
     "data": {
      "text/plain": [
       "count                     2160074\n",
       "unique                        876\n",
       "top       Pants, Tights, Leggings\n",
       "freq                        88077\n",
       "Name: cat_3, dtype: object"
      ]
     },
     "execution_count": 13,
     "metadata": {},
     "output_type": "execute_result"
    }
   ],
   "source": [
    "train_test_combine['cat_3'].describe()"
   ]
  },
  {
   "cell_type": "code",
   "execution_count": null,
   "metadata": {
    "collapsed": true
   },
   "outputs": [],
   "source": [
    "#train_test_combine = train_test_combine.drop(['cat_3'],axis=1)"
   ]
  },
  {
   "cell_type": "code",
   "execution_count": 14,
   "metadata": {
    "collapsed": true
   },
   "outputs": [],
   "source": [
    "train_test_combine = train_test_combine.sort_values(\"cat_1\")"
   ]
  },
  {
   "cell_type": "code",
   "execution_count": 15,
   "metadata": {
    "collapsed": true
   },
   "outputs": [],
   "source": [
    "cat_1_list = list(train_test_combine['cat_1'].unique())"
   ]
  },
  {
   "cell_type": "code",
   "execution_count": 16,
   "metadata": {},
   "outputs": [
    {
     "data": {
      "text/plain": [
       "['Beauty',\n",
       " 'Electronics',\n",
       " 'Handmade',\n",
       " 'Home',\n",
       " 'Kids',\n",
       " 'Men',\n",
       " 'Other',\n",
       " 'Sports & Outdoors',\n",
       " 'Vintage & Collectibles',\n",
       " 'Women',\n",
       " nan]"
      ]
     },
     "execution_count": 16,
     "metadata": {},
     "output_type": "execute_result"
    }
   ],
   "source": [
    "cat_1_list"
   ]
  },
  {
   "cell_type": "code",
   "execution_count": 17,
   "metadata": {
    "collapsed": true
   },
   "outputs": [],
   "source": [
    "df_1 = train_test_combine[train_test_combine['cat_1'] == 'Beauty']\n",
    "df_2 = train_test_combine[train_test_combine['cat_1'] == 'Electronics']\n",
    "df_3 = train_test_combine[train_test_combine['cat_1'] == 'Handmade']\n",
    "df_4 = train_test_combine[train_test_combine['cat_1'] == 'Home']\n",
    "df_5 = train_test_combine[train_test_combine['cat_1'] == 'Kids']\n",
    "df_6 = train_test_combine[train_test_combine['cat_1'] == 'Other']\n",
    "df_7 = train_test_combine[train_test_combine['cat_1'] == 'Sports & Outdoors']\n",
    "df_8 = train_test_combine[train_test_combine['cat_1'] == 'Vintage & Collectibles']\n",
    "df_9 = train_test_combine[train_test_combine['cat_1'] == 'Women']\n",
    "df_10 = train_test_combine[train_test_combine['cat_1'].isnull()]"
   ]
  },
  {
   "cell_type": "code",
   "execution_count": 18,
   "metadata": {},
   "outputs": [
    {
     "data": {
      "text/html": [
       "<div>\n",
       "<style>\n",
       "    .dataframe thead tr:only-child th {\n",
       "        text-align: right;\n",
       "    }\n",
       "\n",
       "    .dataframe thead th {\n",
       "        text-align: left;\n",
       "    }\n",
       "\n",
       "    .dataframe tbody tr th {\n",
       "        vertical-align: top;\n",
       "    }\n",
       "</style>\n",
       "<table border=\"1\" class=\"dataframe\">\n",
       "  <thead>\n",
       "    <tr style=\"text-align: right;\">\n",
       "      <th></th>\n",
       "      <th>id</th>\n",
       "      <th>name</th>\n",
       "      <th>item_condition_id</th>\n",
       "      <th>brand_name</th>\n",
       "      <th>shipping</th>\n",
       "      <th>item_description</th>\n",
       "      <th>cat_1</th>\n",
       "      <th>cat_2</th>\n",
       "      <th>cat_3</th>\n",
       "      <th>is_train</th>\n",
       "    </tr>\n",
       "  </thead>\n",
       "  <tbody>\n",
       "    <tr>\n",
       "      <th>330183</th>\n",
       "      <td>575768</td>\n",
       "      <td>5 Pair Red Cherry Lashes</td>\n",
       "      <td>1</td>\n",
       "      <td>Red Cherry</td>\n",
       "      <td>1</td>\n",
       "      <td>BNIB Those pictured are those included in this...</td>\n",
       "      <td>Beauty</td>\n",
       "      <td>Makeup</td>\n",
       "      <td>Eyes</td>\n",
       "      <td>1</td>\n",
       "    </tr>\n",
       "    <tr>\n",
       "      <th>471926</th>\n",
       "      <td>823019</td>\n",
       "      <td>Colourpop Lippie Stix</td>\n",
       "      <td>2</td>\n",
       "      <td>ColourPop Cosmetics</td>\n",
       "      <td>0</td>\n",
       "      <td>In the color BeautyCon Never used Shipping is ...</td>\n",
       "      <td>Beauty</td>\n",
       "      <td>Makeup</td>\n",
       "      <td>Lips</td>\n",
       "      <td>1</td>\n",
       "    </tr>\n",
       "    <tr>\n",
       "      <th>241829</th>\n",
       "      <td>421663</td>\n",
       "      <td>NEW! Bobbi Brown make up 7 set</td>\n",
       "      <td>1</td>\n",
       "      <td>Bobbi Brown</td>\n",
       "      <td>1</td>\n",
       "      <td>Eye opening Mascara Black .17/5ml Smokey Eye M...</td>\n",
       "      <td>Beauty</td>\n",
       "      <td>Makeup</td>\n",
       "      <td>Makeup Sets</td>\n",
       "      <td>1</td>\n",
       "    </tr>\n",
       "    <tr>\n",
       "      <th>285314</th>\n",
       "      <td>497484</td>\n",
       "      <td>NARS Dual</td>\n",
       "      <td>5</td>\n",
       "      <td>Nars</td>\n",
       "      <td>1</td>\n",
       "      <td>No description yet</td>\n",
       "      <td>Beauty</td>\n",
       "      <td>Makeup</td>\n",
       "      <td>Face</td>\n",
       "      <td>0</td>\n",
       "    </tr>\n",
       "    <tr>\n",
       "      <th>285315</th>\n",
       "      <td>497485</td>\n",
       "      <td>Morphe Palette</td>\n",
       "      <td>1</td>\n",
       "      <td>Morphe Cosmetics</td>\n",
       "      <td>1</td>\n",
       "      <td>*NEW AND AUTHENTIC* 35K</td>\n",
       "      <td>Beauty</td>\n",
       "      <td>Makeup</td>\n",
       "      <td>Makeup Palettes</td>\n",
       "      <td>0</td>\n",
       "    </tr>\n",
       "  </tbody>\n",
       "</table>\n",
       "</div>"
      ],
      "text/plain": [
       "            id                            name  item_condition_id  \\\n",
       "330183  575768        5 Pair Red Cherry Lashes                  1   \n",
       "471926  823019           Colourpop Lippie Stix                  2   \n",
       "241829  421663  NEW! Bobbi Brown make up 7 set                  1   \n",
       "285314  497484                       NARS Dual                  5   \n",
       "285315  497485                  Morphe Palette                  1   \n",
       "\n",
       "                 brand_name  shipping  \\\n",
       "330183           Red Cherry         1   \n",
       "471926  ColourPop Cosmetics         0   \n",
       "241829          Bobbi Brown         1   \n",
       "285314                 Nars         1   \n",
       "285315     Morphe Cosmetics         1   \n",
       "\n",
       "                                         item_description   cat_1   cat_2  \\\n",
       "330183  BNIB Those pictured are those included in this...  Beauty  Makeup   \n",
       "471926  In the color BeautyCon Never used Shipping is ...  Beauty  Makeup   \n",
       "241829  Eye opening Mascara Black .17/5ml Smokey Eye M...  Beauty  Makeup   \n",
       "285314                                 No description yet  Beauty  Makeup   \n",
       "285315                            *NEW AND AUTHENTIC* 35K  Beauty  Makeup   \n",
       "\n",
       "                  cat_3  is_train  \n",
       "330183             Eyes         1  \n",
       "471926             Lips         1  \n",
       "241829      Makeup Sets         1  \n",
       "285314             Face         0  \n",
       "285315  Makeup Palettes         0  "
      ]
     },
     "execution_count": 18,
     "metadata": {},
     "output_type": "execute_result"
    }
   ],
   "source": [
    "df_1.head()"
   ]
  },
  {
   "cell_type": "code",
   "execution_count": 19,
   "metadata": {
    "collapsed": true
   },
   "outputs": [],
   "source": [
    "def work_on_each_dataframe(df_w):\n",
    "    #one hot encoding on one dataset\n",
    "    df_w = pd.get_dummies(df_w, columns=[\"cat_1\"])\n",
    "    df_w = pd.get_dummies(df_w, columns=[\"cat_2\"])\n",
    "    df_w = pd.get_dummies(df_w, columns=[\"cat_3\"])\n",
    "    \n",
    "    df_w.name = df_w.name.astype('category')\n",
    "    #df_w.brand_name = df_w.brand_name.astype('category')\n",
    "    \n",
    "    #label Encoding\n",
    "    #df_w.brand_name = df_w.brand_name.cat.codes\n",
    "    df_w.name = df_w.name.cat.codes\n",
    "\n",
    "    df_w = df_w.drop(['item_description'],axis = 1)\n",
    "    \n",
    "    return df_w"
   ]
  },
  {
   "cell_type": "code",
   "execution_count": 20,
   "metadata": {
    "collapsed": true
   },
   "outputs": [],
   "source": [
    "df_1 = work_on_each_dataframe(df_1)\n",
    "df_2 = work_on_each_dataframe(df_2)\n",
    "df_3 = work_on_each_dataframe(df_3)\n",
    "df_4 = work_on_each_dataframe(df_4)\n",
    "df_5 = work_on_each_dataframe(df_5)\n",
    "df_6 = work_on_each_dataframe(df_6)\n",
    "df_7 = work_on_each_dataframe(df_7)\n",
    "df_8 = work_on_each_dataframe(df_8)\n",
    "df_9 = work_on_each_dataframe(df_9)\n",
    "df_10 = work_on_each_dataframe(df_10)"
   ]
  },
  {
   "cell_type": "code",
   "execution_count": 21,
   "metadata": {},
   "outputs": [
    {
     "data": {
      "text/plain": [
       "(305093, 60)"
      ]
     },
     "execution_count": 21,
     "metadata": {},
     "output_type": "execute_result"
    }
   ],
   "source": [
    "df_1.shape"
   ]
  },
  {
   "cell_type": "code",
   "execution_count": 22,
   "metadata": {
    "collapsed": true
   },
   "outputs": [],
   "source": [
    "def model_train(df_m):\n",
    "    df_test= df_m.loc[df_m['is_train']==0]\n",
    "    df_train= df_m.loc[df_m['is_train']==1]\n",
    "    \n",
    "    df_test = df_test.drop(['is_train'],axis=1)\n",
    "    df_train = df_train.drop(['is_train'],axis=1)\n",
    "    \n",
    "    df_train['price'] = train.price\n",
    "    #df_train['price'] = df_train['price'].apply(lambda x: np.log(x) if x>0 else x)\n",
    "    return df_train,df_test"
   ]
  },
  {
   "cell_type": "code",
   "execution_count": 23,
   "metadata": {
    "collapsed": true
   },
   "outputs": [],
   "source": [
    "df_1_train, df_1_test = model_train(df_1)\n",
    "df_2_train, df_2_test = model_train(df_2)\n",
    "df_3_train, df_3_test = model_train(df_3)\n",
    "df_4_train, df_4_test = model_train(df_4)\n",
    "df_5_train, df_5_test = model_train(df_5)\n",
    "df_6_train, df_6_test = model_train(df_6)\n",
    "df_7_train, df_7_test = model_train(df_7)\n",
    "df_8_train, df_8_test = model_train(df_8)\n",
    "df_9_train, df_9_test = model_train(df_9)\n",
    "df_10_train, df_10_test = model_train(df_10)"
   ]
  },
  {
   "cell_type": "code",
   "execution_count": 24,
   "metadata": {},
   "outputs": [
    {
     "data": {
      "text/html": [
       "<div>\n",
       "<style>\n",
       "    .dataframe thead tr:only-child th {\n",
       "        text-align: right;\n",
       "    }\n",
       "\n",
       "    .dataframe thead th {\n",
       "        text-align: left;\n",
       "    }\n",
       "\n",
       "    .dataframe tbody tr th {\n",
       "        vertical-align: top;\n",
       "    }\n",
       "</style>\n",
       "<table border=\"1\" class=\"dataframe\">\n",
       "  <thead>\n",
       "    <tr style=\"text-align: right;\">\n",
       "      <th></th>\n",
       "      <th>id</th>\n",
       "      <th>name</th>\n",
       "      <th>item_condition_id</th>\n",
       "      <th>brand_name</th>\n",
       "      <th>shipping</th>\n",
       "      <th>cat_1_Beauty</th>\n",
       "      <th>cat_2_Bath &amp; Body</th>\n",
       "      <th>cat_2_Fragrance</th>\n",
       "      <th>cat_2_Hair Care</th>\n",
       "      <th>cat_2_Makeup</th>\n",
       "      <th>...</th>\n",
       "      <th>cat_3_Shampoo &amp; Conditioner Sets</th>\n",
       "      <th>cat_3_Shampoo Plus Conditioner</th>\n",
       "      <th>cat_3_Shampoos</th>\n",
       "      <th>cat_3_Styling Products</th>\n",
       "      <th>cat_3_Styling Tools</th>\n",
       "      <th>cat_3_Sun</th>\n",
       "      <th>cat_3_Toiletry Kits</th>\n",
       "      <th>cat_3_Tweezers</th>\n",
       "      <th>cat_3_Waxing</th>\n",
       "      <th>cat_3_Women</th>\n",
       "    </tr>\n",
       "  </thead>\n",
       "  <tbody>\n",
       "    <tr>\n",
       "      <th>285314</th>\n",
       "      <td>497484</td>\n",
       "      <td>153262</td>\n",
       "      <td>5</td>\n",
       "      <td>Nars</td>\n",
       "      <td>1</td>\n",
       "      <td>1</td>\n",
       "      <td>0</td>\n",
       "      <td>0</td>\n",
       "      <td>0</td>\n",
       "      <td>1</td>\n",
       "      <td>...</td>\n",
       "      <td>0</td>\n",
       "      <td>0</td>\n",
       "      <td>0</td>\n",
       "      <td>0</td>\n",
       "      <td>0</td>\n",
       "      <td>0</td>\n",
       "      <td>0</td>\n",
       "      <td>0</td>\n",
       "      <td>0</td>\n",
       "      <td>0</td>\n",
       "    </tr>\n",
       "    <tr>\n",
       "      <th>285315</th>\n",
       "      <td>497485</td>\n",
       "      <td>151917</td>\n",
       "      <td>1</td>\n",
       "      <td>Morphe Cosmetics</td>\n",
       "      <td>1</td>\n",
       "      <td>1</td>\n",
       "      <td>0</td>\n",
       "      <td>0</td>\n",
       "      <td>0</td>\n",
       "      <td>1</td>\n",
       "      <td>...</td>\n",
       "      <td>0</td>\n",
       "      <td>0</td>\n",
       "      <td>0</td>\n",
       "      <td>0</td>\n",
       "      <td>0</td>\n",
       "      <td>0</td>\n",
       "      <td>0</td>\n",
       "      <td>0</td>\n",
       "      <td>0</td>\n",
       "      <td>0</td>\n",
       "    </tr>\n",
       "    <tr>\n",
       "      <th>285328</th>\n",
       "      <td>497508</td>\n",
       "      <td>234220</td>\n",
       "      <td>1</td>\n",
       "      <td>Younique</td>\n",
       "      <td>1</td>\n",
       "      <td>1</td>\n",
       "      <td>0</td>\n",
       "      <td>0</td>\n",
       "      <td>0</td>\n",
       "      <td>1</td>\n",
       "      <td>...</td>\n",
       "      <td>0</td>\n",
       "      <td>0</td>\n",
       "      <td>0</td>\n",
       "      <td>0</td>\n",
       "      <td>0</td>\n",
       "      <td>0</td>\n",
       "      <td>0</td>\n",
       "      <td>0</td>\n",
       "      <td>0</td>\n",
       "      <td>0</td>\n",
       "    </tr>\n",
       "    <tr>\n",
       "      <th>285312</th>\n",
       "      <td>497481</td>\n",
       "      <td>239111</td>\n",
       "      <td>2</td>\n",
       "      <td>Morphe Cosmetics</td>\n",
       "      <td>0</td>\n",
       "      <td>1</td>\n",
       "      <td>0</td>\n",
       "      <td>0</td>\n",
       "      <td>0</td>\n",
       "      <td>0</td>\n",
       "      <td>...</td>\n",
       "      <td>0</td>\n",
       "      <td>0</td>\n",
       "      <td>0</td>\n",
       "      <td>0</td>\n",
       "      <td>0</td>\n",
       "      <td>0</td>\n",
       "      <td>0</td>\n",
       "      <td>0</td>\n",
       "      <td>0</td>\n",
       "      <td>0</td>\n",
       "    </tr>\n",
       "    <tr>\n",
       "      <th>285345</th>\n",
       "      <td>497541</td>\n",
       "      <td>104990</td>\n",
       "      <td>1</td>\n",
       "      <td>IT Cosmetics</td>\n",
       "      <td>1</td>\n",
       "      <td>1</td>\n",
       "      <td>0</td>\n",
       "      <td>0</td>\n",
       "      <td>0</td>\n",
       "      <td>0</td>\n",
       "      <td>...</td>\n",
       "      <td>0</td>\n",
       "      <td>0</td>\n",
       "      <td>0</td>\n",
       "      <td>0</td>\n",
       "      <td>0</td>\n",
       "      <td>0</td>\n",
       "      <td>0</td>\n",
       "      <td>0</td>\n",
       "      <td>0</td>\n",
       "      <td>0</td>\n",
       "    </tr>\n",
       "  </tbody>\n",
       "</table>\n",
       "<p>5 rows × 59 columns</p>\n",
       "</div>"
      ],
      "text/plain": [
       "            id    name  item_condition_id        brand_name  shipping  \\\n",
       "285314  497484  153262                  5              Nars         1   \n",
       "285315  497485  151917                  1  Morphe Cosmetics         1   \n",
       "285328  497508  234220                  1          Younique         1   \n",
       "285312  497481  239111                  2  Morphe Cosmetics         0   \n",
       "285345  497541  104990                  1      IT Cosmetics         1   \n",
       "\n",
       "        cat_1_Beauty  cat_2_Bath & Body  cat_2_Fragrance  cat_2_Hair Care  \\\n",
       "285314             1                  0                0                0   \n",
       "285315             1                  0                0                0   \n",
       "285328             1                  0                0                0   \n",
       "285312             1                  0                0                0   \n",
       "285345             1                  0                0                0   \n",
       "\n",
       "        cat_2_Makeup     ...       cat_3_Shampoo & Conditioner Sets  \\\n",
       "285314             1     ...                                      0   \n",
       "285315             1     ...                                      0   \n",
       "285328             1     ...                                      0   \n",
       "285312             0     ...                                      0   \n",
       "285345             0     ...                                      0   \n",
       "\n",
       "        cat_3_Shampoo Plus Conditioner  cat_3_Shampoos  \\\n",
       "285314                               0               0   \n",
       "285315                               0               0   \n",
       "285328                               0               0   \n",
       "285312                               0               0   \n",
       "285345                               0               0   \n",
       "\n",
       "        cat_3_Styling Products  cat_3_Styling Tools  cat_3_Sun  \\\n",
       "285314                       0                    0          0   \n",
       "285315                       0                    0          0   \n",
       "285328                       0                    0          0   \n",
       "285312                       0                    0          0   \n",
       "285345                       0                    0          0   \n",
       "\n",
       "        cat_3_Toiletry Kits  cat_3_Tweezers  cat_3_Waxing  cat_3_Women  \n",
       "285314                    0               0             0            0  \n",
       "285315                    0               0             0            0  \n",
       "285328                    0               0             0            0  \n",
       "285312                    0               0             0            0  \n",
       "285345                    0               0             0            0  \n",
       "\n",
       "[5 rows x 59 columns]"
      ]
     },
     "execution_count": 24,
     "metadata": {},
     "output_type": "execute_result"
    }
   ],
   "source": [
    "df_1_test.head()"
   ]
  },
  {
   "cell_type": "code",
   "execution_count": 25,
   "metadata": {},
   "outputs": [
    {
     "data": {
      "text/html": [
       "<div>\n",
       "<style>\n",
       "    .dataframe thead tr:only-child th {\n",
       "        text-align: right;\n",
       "    }\n",
       "\n",
       "    .dataframe thead th {\n",
       "        text-align: left;\n",
       "    }\n",
       "\n",
       "    .dataframe tbody tr th {\n",
       "        vertical-align: top;\n",
       "    }\n",
       "</style>\n",
       "<table border=\"1\" class=\"dataframe\">\n",
       "  <thead>\n",
       "    <tr style=\"text-align: right;\">\n",
       "      <th></th>\n",
       "      <th>id</th>\n",
       "      <th>name</th>\n",
       "      <th>item_condition_id</th>\n",
       "      <th>brand_name</th>\n",
       "      <th>shipping</th>\n",
       "      <th>cat_1_Beauty</th>\n",
       "      <th>cat_2_Bath &amp; Body</th>\n",
       "      <th>cat_2_Fragrance</th>\n",
       "      <th>cat_2_Hair Care</th>\n",
       "      <th>cat_2_Makeup</th>\n",
       "      <th>...</th>\n",
       "      <th>cat_3_Shampoo Plus Conditioner</th>\n",
       "      <th>cat_3_Shampoos</th>\n",
       "      <th>cat_3_Styling Products</th>\n",
       "      <th>cat_3_Styling Tools</th>\n",
       "      <th>cat_3_Sun</th>\n",
       "      <th>cat_3_Toiletry Kits</th>\n",
       "      <th>cat_3_Tweezers</th>\n",
       "      <th>cat_3_Waxing</th>\n",
       "      <th>cat_3_Women</th>\n",
       "      <th>price</th>\n",
       "    </tr>\n",
       "  </thead>\n",
       "  <tbody>\n",
       "    <tr>\n",
       "      <th>330183</th>\n",
       "      <td>575768</td>\n",
       "      <td>15887</td>\n",
       "      <td>1</td>\n",
       "      <td>Red Cherry</td>\n",
       "      <td>1</td>\n",
       "      <td>1</td>\n",
       "      <td>0</td>\n",
       "      <td>0</td>\n",
       "      <td>0</td>\n",
       "      <td>1</td>\n",
       "      <td>...</td>\n",
       "      <td>0</td>\n",
       "      <td>0</td>\n",
       "      <td>0</td>\n",
       "      <td>0</td>\n",
       "      <td>0</td>\n",
       "      <td>0</td>\n",
       "      <td>0</td>\n",
       "      <td>0</td>\n",
       "      <td>0</td>\n",
       "      <td>12.0</td>\n",
       "    </tr>\n",
       "    <tr>\n",
       "      <th>471926</th>\n",
       "      <td>823019</td>\n",
       "      <td>65792</td>\n",
       "      <td>2</td>\n",
       "      <td>ColourPop Cosmetics</td>\n",
       "      <td>0</td>\n",
       "      <td>1</td>\n",
       "      <td>0</td>\n",
       "      <td>0</td>\n",
       "      <td>0</td>\n",
       "      <td>1</td>\n",
       "      <td>...</td>\n",
       "      <td>0</td>\n",
       "      <td>0</td>\n",
       "      <td>0</td>\n",
       "      <td>0</td>\n",
       "      <td>0</td>\n",
       "      <td>0</td>\n",
       "      <td>0</td>\n",
       "      <td>0</td>\n",
       "      <td>0</td>\n",
       "      <td>7.0</td>\n",
       "    </tr>\n",
       "    <tr>\n",
       "      <th>241829</th>\n",
       "      <td>421663</td>\n",
       "      <td>156614</td>\n",
       "      <td>1</td>\n",
       "      <td>Bobbi Brown</td>\n",
       "      <td>1</td>\n",
       "      <td>1</td>\n",
       "      <td>0</td>\n",
       "      <td>0</td>\n",
       "      <td>0</td>\n",
       "      <td>1</td>\n",
       "      <td>...</td>\n",
       "      <td>0</td>\n",
       "      <td>0</td>\n",
       "      <td>0</td>\n",
       "      <td>0</td>\n",
       "      <td>0</td>\n",
       "      <td>0</td>\n",
       "      <td>0</td>\n",
       "      <td>0</td>\n",
       "      <td>0</td>\n",
       "      <td>17.0</td>\n",
       "    </tr>\n",
       "    <tr>\n",
       "      <th>1318313</th>\n",
       "      <td>977450</td>\n",
       "      <td>51925</td>\n",
       "      <td>1</td>\n",
       "      <td>NaN</td>\n",
       "      <td>1</td>\n",
       "      <td>1</td>\n",
       "      <td>0</td>\n",
       "      <td>0</td>\n",
       "      <td>1</td>\n",
       "      <td>0</td>\n",
       "      <td>...</td>\n",
       "      <td>0</td>\n",
       "      <td>0</td>\n",
       "      <td>0</td>\n",
       "      <td>0</td>\n",
       "      <td>0</td>\n",
       "      <td>0</td>\n",
       "      <td>0</td>\n",
       "      <td>0</td>\n",
       "      <td>0</td>\n",
       "      <td>8.0</td>\n",
       "    </tr>\n",
       "    <tr>\n",
       "      <th>471930</th>\n",
       "      <td>823027</td>\n",
       "      <td>76395</td>\n",
       "      <td>1</td>\n",
       "      <td>Elizabeth Arden</td>\n",
       "      <td>0</td>\n",
       "      <td>1</td>\n",
       "      <td>0</td>\n",
       "      <td>0</td>\n",
       "      <td>0</td>\n",
       "      <td>0</td>\n",
       "      <td>...</td>\n",
       "      <td>0</td>\n",
       "      <td>0</td>\n",
       "      <td>0</td>\n",
       "      <td>0</td>\n",
       "      <td>0</td>\n",
       "      <td>0</td>\n",
       "      <td>0</td>\n",
       "      <td>0</td>\n",
       "      <td>0</td>\n",
       "      <td>14.0</td>\n",
       "    </tr>\n",
       "  </tbody>\n",
       "</table>\n",
       "<p>5 rows × 60 columns</p>\n",
       "</div>"
      ],
      "text/plain": [
       "             id    name  item_condition_id           brand_name  shipping  \\\n",
       "330183   575768   15887                  1           Red Cherry         1   \n",
       "471926   823019   65792                  2  ColourPop Cosmetics         0   \n",
       "241829   421663  156614                  1          Bobbi Brown         1   \n",
       "1318313  977450   51925                  1                  NaN         1   \n",
       "471930   823027   76395                  1      Elizabeth Arden         0   \n",
       "\n",
       "         cat_1_Beauty  cat_2_Bath & Body  cat_2_Fragrance  cat_2_Hair Care  \\\n",
       "330183              1                  0                0                0   \n",
       "471926              1                  0                0                0   \n",
       "241829              1                  0                0                0   \n",
       "1318313             1                  0                0                1   \n",
       "471930              1                  0                0                0   \n",
       "\n",
       "         cat_2_Makeup  ...    cat_3_Shampoo Plus Conditioner  cat_3_Shampoos  \\\n",
       "330183              1  ...                                 0               0   \n",
       "471926              1  ...                                 0               0   \n",
       "241829              1  ...                                 0               0   \n",
       "1318313             0  ...                                 0               0   \n",
       "471930              0  ...                                 0               0   \n",
       "\n",
       "         cat_3_Styling Products  cat_3_Styling Tools  cat_3_Sun  \\\n",
       "330183                        0                    0          0   \n",
       "471926                        0                    0          0   \n",
       "241829                        0                    0          0   \n",
       "1318313                       0                    0          0   \n",
       "471930                        0                    0          0   \n",
       "\n",
       "         cat_3_Toiletry Kits  cat_3_Tweezers  cat_3_Waxing  cat_3_Women  price  \n",
       "330183                     0               0             0            0   12.0  \n",
       "471926                     0               0             0            0    7.0  \n",
       "241829                     0               0             0            0   17.0  \n",
       "1318313                    0               0             0            0    8.0  \n",
       "471930                     0               0             0            0   14.0  \n",
       "\n",
       "[5 rows x 60 columns]"
      ]
     },
     "execution_count": 25,
     "metadata": {},
     "output_type": "execute_result"
    }
   ],
   "source": [
    "df_1_train.head()"
   ]
  },
  {
   "cell_type": "code",
   "execution_count": null,
   "metadata": {
    "collapsed": true
   },
   "outputs": [],
   "source": [
    "'''\n",
    "#PCA\n",
    "\n",
    "#convert it to numpy arrays\n",
    "X=df_train.values\n",
    "\n",
    "#Scaling the values\n",
    "X = scale(X)\n",
    "\n",
    "pca = PCA(n_components=44)\n",
    "\n",
    "pca.fit(X)\n",
    "\n",
    "#The amount of variance that each PC explains\n",
    "var= pca.explained_variance_ratio_\n",
    "\n",
    "#Cumulative Variance explains\n",
    "var1=np.cumsum(np.round(pca.explained_variance_ratio_, decimals=4)*100)\n",
    "\n",
    "'''"
   ]
  },
  {
   "cell_type": "code",
   "execution_count": 26,
   "metadata": {
    "collapsed": true
   },
   "outputs": [],
   "source": [
    "'''\n",
    "brand_group: Dataframe comprising mean of each brand\n",
    "brand_group1: Training Dataset, in which we will append the brand_weight\n",
    "brand_group11: Testing Dataset, in which we will append the brand_weight\n",
    "brand_group2: a temperory variable for train data\n",
    "brand_group22: a temperory variable for test data \n",
    "'''\n",
    "def brand_weight_train(df_train1,df_test1):\n",
    "    brand_group = df_train1.groupby(['brand_name'])['price'].mean().to_frame()\n",
    "    brand_group['brand_name'] =brand_group.index\n",
    "    i=0\n",
    "    j=0\n",
    "    for index1,row1 in brand_group.iterrows():\n",
    "        if i ==0:\n",
    "            try:\n",
    "                brand_group1 = df_train1[df_train1['brand_name'].str.contains(brand_group.loc[index1, 'brand_name'])==True]\n",
    "                brand_group1.loc[:,'brand_weight'] = brand_group.loc[index1,'price']\n",
    "                i=1\n",
    "            except:\n",
    "                pass\n",
    "        else:\n",
    "            try:\n",
    "                brand_group2 = df_train1[df_train1['brand_name'].str.contains(brand_group.loc[index1, 'brand_name'])==True]\n",
    "                brand_group2.loc[:,'brand_weight'] = brand_group.loc[index1,'price']\n",
    "                brand_group1 = brand_group1.append(brand_group2)\n",
    "            except:\n",
    "                pass\n",
    "        \n",
    "        if j==0:\n",
    "            try:\n",
    "                brand_group11 = df_test1[df_test1['brand_name'].str.contains(brand_group.loc[index1, 'brand_name'])==True]\n",
    "                brand_group11.loc[:,'brand_weight'] = brand_group.loc[index1,'price']\n",
    "                j=1\n",
    "            except:\n",
    "                pass\n",
    "            \n",
    "        else:\n",
    "            try:\n",
    "                brand_group22 = df_test1[df_test1['brand_name'].str.contains(brand_group.loc[index1, 'brand_name'])==True]\n",
    "                brand_group22.loc[:,'brand_weight'] = brand_group.loc[index1,'price']\n",
    "                brand_group11 = brand_group11.append(brand_group22)\n",
    "            except:\n",
    "                pass\n",
    "    \n",
    "    return brand_group1, brand_group11\n"
   ]
  },
  {
   "cell_type": "code",
   "execution_count": 59,
   "metadata": {},
   "outputs": [
    {
     "name": "stderr",
     "output_type": "stream",
     "text": [
      "C:\\Users\\tidyq\\AppData\\Local\\Continuum\\anaconda3\\lib\\site-packages\\pandas\\core\\indexing.py:337: SettingWithCopyWarning: \n",
      "A value is trying to be set on a copy of a slice from a DataFrame.\n",
      "Try using .loc[row_indexer,col_indexer] = value instead\n",
      "\n",
      "See the caveats in the documentation: http://pandas.pydata.org/pandas-docs/stable/indexing.html#indexing-view-versus-copy\n",
      "  self.obj[key] = _infer_fill_value(value)\n",
      "C:\\Users\\tidyq\\AppData\\Local\\Continuum\\anaconda3\\lib\\site-packages\\pandas\\core\\indexing.py:517: SettingWithCopyWarning: \n",
      "A value is trying to be set on a copy of a slice from a DataFrame.\n",
      "Try using .loc[row_indexer,col_indexer] = value instead\n",
      "\n",
      "See the caveats in the documentation: http://pandas.pydata.org/pandas-docs/stable/indexing.html#indexing-view-versus-copy\n",
      "  self.obj[item] = s\n"
     ]
    },
    {
     "name": "stdout",
     "output_type": "stream",
     "text": [
      "Wall time: 43min 43s\n"
     ]
    }
   ],
   "source": [
    "%%time\n",
    "#df_1_train,df_1_test = brand_weight_train(df_1_train,df_1_test)\n",
    "#df_2_train,df_2_test = brand_weight_train(df_2_train,df_2_test)\n",
    "#df_3_train,df_3_test = brand_weight_train(df_3_train,df_3_test)\n",
    "#df_4_train,df_4_test = brand_weight_train(df_4_train,df_4_test)\n",
    "#df_5_train,df_5_test = brand_weight_train(df_5_train,df_5_test)\n",
    "#df_6_train,df_6_test = brand_weight_train(df_6_train,df_6_test)\n",
    "#df_7_train,df_7_test = brand_weight_train(df_7_train,df_7_test)\n",
    "df_8_train,df_8_test = brand_weight_train(df_8_train,df_8_test)\n",
    "df_9_train,df_9_test = brand_weight_train(df_9_train,df_9_test)\n",
    "df_10_train,df_10_test = brand_weight_train(df_10_train,df_10_test)"
   ]
  },
  {
   "cell_type": "code",
   "execution_count": 49,
   "metadata": {
    "collapsed": true
   },
   "outputs": [],
   "source": [
    "'''\n",
    "df_2_train.drop(['brand_name'], axis=1, inplace = True)\n",
    "df_2_test.drop(['brand_name'], axis=1, inplace = True)\n",
    "'''"
   ]
  },
  {
   "cell_type": "code",
   "execution_count": 52,
   "metadata": {
    "collapsed": true
   },
   "outputs": [],
   "source": [
    "def encode_brand_name_price(df__train,df__test):\n",
    "    df__train.brand_name = df__train.brand_name.astype('category')\n",
    "    df__test.brand_name = df__test.brand_name.astype('category')\n",
    "    df__train.brand_name = df__train.brand_name.cat.codes\n",
    "    df__test.brand_name = df__test.brand_name.cat.codes\n",
    "    df__train['price'] = df__train['price'].apply(lambda x: np.log(x) if x>0 else x)\n",
    "    return df__train,df__test"
   ]
  },
  {
   "cell_type": "code",
   "execution_count": 60,
   "metadata": {
    "collapsed": true
   },
   "outputs": [],
   "source": [
    "df_1_train,df_1_test = encode_brand_name_price(df_1_train,df_1_test)\n",
    "df_2_train,df_2_test = encode_brand_name_price(df_2_train,df_2_test)\n",
    "#df_3_train,df_3_test = encode_brand_name_price(df_3_train,df_3_test)\n",
    "#df_4_train,df_4_test = encode_brand_name_price(df_4_train,df_4_test)\n",
    "#df_5_train,df_5_test = encode_brand_name_price(df_5_train,df_5_test)\n",
    "#df_6_train,df_6_test = encode_brand_name_price(df_6_train,df_6_test)\n",
    "#df_7_train,df_7_test = encode_brand_name_price(df_7_train,df_7_test)\n",
    "df_8_train,df_8_test = encode_brand_name_price(df_8_train,df_8_test)\n",
    "df_9_train,df_9_test = encode_brand_name_price(df_9_train,df_9_test)\n",
    "df_10_train,df_10_test = encode_brand_name_price(df_10_train,df_10_test)"
   ]
  },
  {
   "cell_type": "code",
   "execution_count": null,
   "metadata": {
    "collapsed": true
   },
   "outputs": [],
   "source": []
  },
  {
   "cell_type": "code",
   "execution_count": null,
   "metadata": {
    "collapsed": true
   },
   "outputs": [],
   "source": []
  },
  {
   "cell_type": "code",
   "execution_count": 54,
   "metadata": {
    "collapsed": true
   },
   "outputs": [],
   "source": [
    "def Random_forest(df_train,df_test):\n",
    "    x_train,y_train = df_train.drop(['price'],axis =1),df_train.price\n",
    "    m = RandomForestRegressor(n_jobs=-1,min_samples_leaf=3,n_estimators=200)\n",
    "    m.fit(x_train, y_train)\n",
    "    \n",
    "    print(m.score(x_train,y_train))"
   ]
  },
  {
   "cell_type": "code",
   "execution_count": 55,
   "metadata": {},
   "outputs": [
    {
     "name": "stdout",
     "output_type": "stream",
     "text": [
      "0.857589853493\n",
      "0.754778320467\n",
      "0.771632284923\n"
     ]
    }
   ],
   "source": [
    "#Random_forest(df_1_train,df_1_test)\n",
    "#Random_forest(df_2_train,df_2_test)\n",
    "Random_forest(df_3_train,df_3_test)\n",
    "Random_forest(df_4_train,df_4_test)\n",
    "Random_forest(df_5_train,df_5_test)\n",
    "#Random_forest(df_6_train,df_6_test)\n",
    "#Random_forest(df_7_train,df_7_test)\n",
    "#Random_forest(df_8_train,df_8_test)\n",
    "#Random_forest(df_9_train,df_9_test)\n",
    "#Random_forest(df_10_train,df_10_test)"
   ]
  },
  {
   "cell_type": "code",
   "execution_count": 58,
   "metadata": {},
   "outputs": [
    {
     "name": "stdout",
     "output_type": "stream",
     "text": [
      "0.785997352692\n",
      "0.777192130842\n"
     ]
    }
   ],
   "source": [
    "Random_forest(df_6_train,df_6_test)\n",
    "Random_forest(df_7_train,df_7_test)"
   ]
  },
  {
   "cell_type": "code",
   "execution_count": 61,
   "metadata": {},
   "outputs": [
    {
     "name": "stdout",
     "output_type": "stream",
     "text": [
      "0.797329625168\n",
      "0.843613342433\n",
      "0.860777646969\n"
     ]
    }
   ],
   "source": [
    "Random_forest(df_8_train,df_8_test)\n",
    "Random_forest(df_9_train,df_9_test)\n",
    "Random_forest(df_10_train,df_10_test)"
   ]
  },
  {
   "cell_type": "code",
   "execution_count": null,
   "metadata": {
    "collapsed": true
   },
   "outputs": [],
   "source": []
  },
  {
   "cell_type": "code",
   "execution_count": null,
   "metadata": {
    "collapsed": true
   },
   "outputs": [],
   "source": []
  },
  {
   "cell_type": "code",
   "execution_count": null,
   "metadata": {
    "collapsed": true
   },
   "outputs": [],
   "source": [
    "preds = m.predict(df_test)"
   ]
  },
  {
   "cell_type": "code",
   "execution_count": null,
   "metadata": {
    "collapsed": true
   },
   "outputs": [],
   "source": [
    "preds = pd.Series(np.exp(preds))"
   ]
  },
  {
   "cell_type": "code",
   "execution_count": null,
   "metadata": {
    "collapsed": true
   },
   "outputs": [],
   "source": [
    "type(preds)"
   ]
  },
  {
   "cell_type": "code",
   "execution_count": null,
   "metadata": {
    "collapsed": true
   },
   "outputs": [],
   "source": [
    "submit = pd.concat([df_test.id,preds],axis=1)"
   ]
  },
  {
   "cell_type": "code",
   "execution_count": null,
   "metadata": {
    "collapsed": true
   },
   "outputs": [],
   "source": [
    "submit.columns = ['test_id','price']"
   ]
  },
  {
   "cell_type": "code",
   "execution_count": null,
   "metadata": {
    "collapsed": true
   },
   "outputs": [],
   "source": [
    "#df_1_train.to_csv(curr_dir+\"//Dataset/df_1_train.csv\")"
   ]
  }
 ],
 "metadata": {
  "kernelspec": {
   "display_name": "Python 3",
   "language": "python",
   "name": "python3"
  },
  "language_info": {
   "codemirror_mode": {
    "name": "ipython",
    "version": 3
   },
   "file_extension": ".py",
   "mimetype": "text/x-python",
   "name": "python",
   "nbconvert_exporter": "python",
   "pygments_lexer": "ipython3",
   "version": "3.6.3"
  }
 },
 "nbformat": 4,
 "nbformat_minor": 2
}
